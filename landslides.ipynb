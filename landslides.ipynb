{
  "nbformat": 4,
  "nbformat_minor": 0,
  "metadata": {
    "colab": {
      "provenance": [],
      "authorship_tag": "ABX9TyOkC4q9VezyUG3JpfuxNZ3G",
      "include_colab_link": true
    },
    "kernelspec": {
      "name": "python3",
      "display_name": "Python 3"
    },
    "language_info": {
      "name": "python"
    }
  },
  "cells": [
    {
      "cell_type": "markdown",
      "metadata": {
        "id": "view-in-github",
        "colab_type": "text"
      },
      "source": [
        "<a href=\"https://colab.research.google.com/github/ShruthiKannappan/Calamity_Magnitude_Predictor/blob/main/landslides.ipynb\" target=\"_parent\"><img src=\"https://colab.research.google.com/assets/colab-badge.svg\" alt=\"Open In Colab\"/></a>"
      ]
    },
    {
      "cell_type": "markdown",
      "source": [
        "#Importing The Required Libraries"
      ],
      "metadata": {
        "id": "RhYyccFqiq_I"
      }
    },
    {
      "cell_type": "code",
      "execution_count": null,
      "metadata": {
        "id": "AyfyBq5980md"
      },
      "outputs": [],
      "source": [
        "import pandas as pd\n",
        "import numpy as np\n",
        "import matplotlib.pyplot as plt\n"
      ]
    },
    {
      "cell_type": "markdown",
      "source": [
        "#Reading the data from the CSV File"
      ],
      "metadata": {
        "id": "9s8MEocii5Kp"
      }
    },
    {
      "cell_type": "code",
      "source": [
        "data=pd.read_csv('Landslides.csv')\n",
        "data.head()\n"
      ],
      "metadata": {
        "id": "Q_p90Ts99AqJ",
        "colab": {
          "base_uri": "https://localhost:8080/",
          "height": 647
        },
        "outputId": "da041b06-c385-48ea-cc9a-f3d9837a3534"
      },
      "execution_count": 332,
      "outputs": [
        {
          "output_type": "execute_result",
          "data": {
            "text/plain": [
              "   id        date time         country                        nearest_places  \\\n",
              "0   1  01/02/2007  NaN  United Kingdom                   Whitehaven, Cumbria   \n",
              "1   2  01/03/2007  NaN            Peru  Alto Mesapata, in the Pasco province   \n",
              "2   3  01/05/2007  NaN          Brazil         Nova Friburgo, Rio de Janeiro   \n",
              "3   4  01/05/2007  NaN          Brazil             Sumidouro, Rio de Janeiro   \n",
              "4   5  01/05/2007  NaN          Brazil                    Jundiai, Sao Paulo   \n",
              "\n",
              "  hazard_type landslide_type trigger storm_name  fatalities  ...  population  \\\n",
              "0   landslide      Landslide    Rain        NaN         1.0  ...     24803.0   \n",
              "1   landslide        Complex    Rain        NaN         NaN  ...         0.0   \n",
              "2   landslide      Landslide    Rain        NaN         7.0  ...    153361.0   \n",
              "3   landslide      Landslide    Rain        NaN         2.0  ...     11555.0   \n",
              "4   landslide      Landslide    Rain        NaN         1.0  ...     54415.0   \n",
              "\n",
              "  countrycode continentcode        key version  \\\n",
              "0          GB            EU  sGaiIKdcW     1.0   \n",
              "1          PE            SA  S95OsumK4     1.0   \n",
              "2          BR            SA  D5vlNdgB7     1.0   \n",
              "3          BR            SA  h5J8IFdc4     1.0   \n",
              "4          BR            SA  s5Zb5FdB4     1.0   \n",
              "\n",
              "                                    tstamp changeset_id   latitude  longitude  \\\n",
              "0  Tue Apr 01 2014 00:00:00 GMT+0000 (UTC)          1.0  54.549400  -3.587500   \n",
              "1  Tue Apr 01 2014 00:00:00 GMT+0000 (UTC)          1.0 -10.383800 -75.426700   \n",
              "2  Tue Apr 01 2014 00:00:00 GMT+0000 (UTC)          1.0 -22.282346 -42.536362   \n",
              "3  Tue Apr 01 2014 00:00:00 GMT+0000 (UTC)          1.0 -22.045200 -42.673400   \n",
              "4  Tue Apr 01 2014 00:00:00 GMT+0000 (UTC)          1.0 -23.231100 -46.613600   \n",
              "\n",
              "                                  geolocation  \n",
              "0   (54.549399999999999, -3.5874999999999999)  \n",
              "1  (-10.383800000000001, -75.426699999999997)  \n",
              "2  (-22.282346350000001, -42.536362050000001)  \n",
              "3  (-22.045200000000001, -42.673400000000001)  \n",
              "4  (-23.231100000000001, -46.613599999999998)  \n",
              "\n",
              "[5 rows x 34 columns]"
            ],
            "text/html": [
              "\n",
              "  <div id=\"df-a632a1a4-e4dd-4699-b8ac-0c616b4261b1\">\n",
              "    <div class=\"colab-df-container\">\n",
              "      <div>\n",
              "<style scoped>\n",
              "    .dataframe tbody tr th:only-of-type {\n",
              "        vertical-align: middle;\n",
              "    }\n",
              "\n",
              "    .dataframe tbody tr th {\n",
              "        vertical-align: top;\n",
              "    }\n",
              "\n",
              "    .dataframe thead th {\n",
              "        text-align: right;\n",
              "    }\n",
              "</style>\n",
              "<table border=\"1\" class=\"dataframe\">\n",
              "  <thead>\n",
              "    <tr style=\"text-align: right;\">\n",
              "      <th></th>\n",
              "      <th>id</th>\n",
              "      <th>date</th>\n",
              "      <th>time</th>\n",
              "      <th>country</th>\n",
              "      <th>nearest_places</th>\n",
              "      <th>hazard_type</th>\n",
              "      <th>landslide_type</th>\n",
              "      <th>trigger</th>\n",
              "      <th>storm_name</th>\n",
              "      <th>fatalities</th>\n",
              "      <th>...</th>\n",
              "      <th>population</th>\n",
              "      <th>countrycode</th>\n",
              "      <th>continentcode</th>\n",
              "      <th>key</th>\n",
              "      <th>version</th>\n",
              "      <th>tstamp</th>\n",
              "      <th>changeset_id</th>\n",
              "      <th>latitude</th>\n",
              "      <th>longitude</th>\n",
              "      <th>geolocation</th>\n",
              "    </tr>\n",
              "  </thead>\n",
              "  <tbody>\n",
              "    <tr>\n",
              "      <th>0</th>\n",
              "      <td>1</td>\n",
              "      <td>01/02/2007</td>\n",
              "      <td>NaN</td>\n",
              "      <td>United Kingdom</td>\n",
              "      <td>Whitehaven, Cumbria</td>\n",
              "      <td>landslide</td>\n",
              "      <td>Landslide</td>\n",
              "      <td>Rain</td>\n",
              "      <td>NaN</td>\n",
              "      <td>1.0</td>\n",
              "      <td>...</td>\n",
              "      <td>24803.0</td>\n",
              "      <td>GB</td>\n",
              "      <td>EU</td>\n",
              "      <td>sGaiIKdcW</td>\n",
              "      <td>1.0</td>\n",
              "      <td>Tue Apr 01 2014 00:00:00 GMT+0000 (UTC)</td>\n",
              "      <td>1.0</td>\n",
              "      <td>54.549400</td>\n",
              "      <td>-3.587500</td>\n",
              "      <td>(54.549399999999999, -3.5874999999999999)</td>\n",
              "    </tr>\n",
              "    <tr>\n",
              "      <th>1</th>\n",
              "      <td>2</td>\n",
              "      <td>01/03/2007</td>\n",
              "      <td>NaN</td>\n",
              "      <td>Peru</td>\n",
              "      <td>Alto Mesapata, in the Pasco province</td>\n",
              "      <td>landslide</td>\n",
              "      <td>Complex</td>\n",
              "      <td>Rain</td>\n",
              "      <td>NaN</td>\n",
              "      <td>NaN</td>\n",
              "      <td>...</td>\n",
              "      <td>0.0</td>\n",
              "      <td>PE</td>\n",
              "      <td>SA</td>\n",
              "      <td>S95OsumK4</td>\n",
              "      <td>1.0</td>\n",
              "      <td>Tue Apr 01 2014 00:00:00 GMT+0000 (UTC)</td>\n",
              "      <td>1.0</td>\n",
              "      <td>-10.383800</td>\n",
              "      <td>-75.426700</td>\n",
              "      <td>(-10.383800000000001, -75.426699999999997)</td>\n",
              "    </tr>\n",
              "    <tr>\n",
              "      <th>2</th>\n",
              "      <td>3</td>\n",
              "      <td>01/05/2007</td>\n",
              "      <td>NaN</td>\n",
              "      <td>Brazil</td>\n",
              "      <td>Nova Friburgo, Rio de Janeiro</td>\n",
              "      <td>landslide</td>\n",
              "      <td>Landslide</td>\n",
              "      <td>Rain</td>\n",
              "      <td>NaN</td>\n",
              "      <td>7.0</td>\n",
              "      <td>...</td>\n",
              "      <td>153361.0</td>\n",
              "      <td>BR</td>\n",
              "      <td>SA</td>\n",
              "      <td>D5vlNdgB7</td>\n",
              "      <td>1.0</td>\n",
              "      <td>Tue Apr 01 2014 00:00:00 GMT+0000 (UTC)</td>\n",
              "      <td>1.0</td>\n",
              "      <td>-22.282346</td>\n",
              "      <td>-42.536362</td>\n",
              "      <td>(-22.282346350000001, -42.536362050000001)</td>\n",
              "    </tr>\n",
              "    <tr>\n",
              "      <th>3</th>\n",
              "      <td>4</td>\n",
              "      <td>01/05/2007</td>\n",
              "      <td>NaN</td>\n",
              "      <td>Brazil</td>\n",
              "      <td>Sumidouro, Rio de Janeiro</td>\n",
              "      <td>landslide</td>\n",
              "      <td>Landslide</td>\n",
              "      <td>Rain</td>\n",
              "      <td>NaN</td>\n",
              "      <td>2.0</td>\n",
              "      <td>...</td>\n",
              "      <td>11555.0</td>\n",
              "      <td>BR</td>\n",
              "      <td>SA</td>\n",
              "      <td>h5J8IFdc4</td>\n",
              "      <td>1.0</td>\n",
              "      <td>Tue Apr 01 2014 00:00:00 GMT+0000 (UTC)</td>\n",
              "      <td>1.0</td>\n",
              "      <td>-22.045200</td>\n",
              "      <td>-42.673400</td>\n",
              "      <td>(-22.045200000000001, -42.673400000000001)</td>\n",
              "    </tr>\n",
              "    <tr>\n",
              "      <th>4</th>\n",
              "      <td>5</td>\n",
              "      <td>01/05/2007</td>\n",
              "      <td>NaN</td>\n",
              "      <td>Brazil</td>\n",
              "      <td>Jundiai, Sao Paulo</td>\n",
              "      <td>landslide</td>\n",
              "      <td>Landslide</td>\n",
              "      <td>Rain</td>\n",
              "      <td>NaN</td>\n",
              "      <td>1.0</td>\n",
              "      <td>...</td>\n",
              "      <td>54415.0</td>\n",
              "      <td>BR</td>\n",
              "      <td>SA</td>\n",
              "      <td>s5Zb5FdB4</td>\n",
              "      <td>1.0</td>\n",
              "      <td>Tue Apr 01 2014 00:00:00 GMT+0000 (UTC)</td>\n",
              "      <td>1.0</td>\n",
              "      <td>-23.231100</td>\n",
              "      <td>-46.613600</td>\n",
              "      <td>(-23.231100000000001, -46.613599999999998)</td>\n",
              "    </tr>\n",
              "  </tbody>\n",
              "</table>\n",
              "<p>5 rows × 34 columns</p>\n",
              "</div>\n",
              "      <button class=\"colab-df-convert\" onclick=\"convertToInteractive('df-a632a1a4-e4dd-4699-b8ac-0c616b4261b1')\"\n",
              "              title=\"Convert this dataframe to an interactive table.\"\n",
              "              style=\"display:none;\">\n",
              "        \n",
              "  <svg xmlns=\"http://www.w3.org/2000/svg\" height=\"24px\"viewBox=\"0 0 24 24\"\n",
              "       width=\"24px\">\n",
              "    <path d=\"M0 0h24v24H0V0z\" fill=\"none\"/>\n",
              "    <path d=\"M18.56 5.44l.94 2.06.94-2.06 2.06-.94-2.06-.94-.94-2.06-.94 2.06-2.06.94zm-11 1L8.5 8.5l.94-2.06 2.06-.94-2.06-.94L8.5 2.5l-.94 2.06-2.06.94zm10 10l.94 2.06.94-2.06 2.06-.94-2.06-.94-.94-2.06-.94 2.06-2.06.94z\"/><path d=\"M17.41 7.96l-1.37-1.37c-.4-.4-.92-.59-1.43-.59-.52 0-1.04.2-1.43.59L10.3 9.45l-7.72 7.72c-.78.78-.78 2.05 0 2.83L4 21.41c.39.39.9.59 1.41.59.51 0 1.02-.2 1.41-.59l7.78-7.78 2.81-2.81c.8-.78.8-2.07 0-2.86zM5.41 20L4 18.59l7.72-7.72 1.47 1.35L5.41 20z\"/>\n",
              "  </svg>\n",
              "      </button>\n",
              "      \n",
              "  <style>\n",
              "    .colab-df-container {\n",
              "      display:flex;\n",
              "      flex-wrap:wrap;\n",
              "      gap: 12px;\n",
              "    }\n",
              "\n",
              "    .colab-df-convert {\n",
              "      background-color: #E8F0FE;\n",
              "      border: none;\n",
              "      border-radius: 50%;\n",
              "      cursor: pointer;\n",
              "      display: none;\n",
              "      fill: #1967D2;\n",
              "      height: 32px;\n",
              "      padding: 0 0 0 0;\n",
              "      width: 32px;\n",
              "    }\n",
              "\n",
              "    .colab-df-convert:hover {\n",
              "      background-color: #E2EBFA;\n",
              "      box-shadow: 0px 1px 2px rgba(60, 64, 67, 0.3), 0px 1px 3px 1px rgba(60, 64, 67, 0.15);\n",
              "      fill: #174EA6;\n",
              "    }\n",
              "\n",
              "    [theme=dark] .colab-df-convert {\n",
              "      background-color: #3B4455;\n",
              "      fill: #D2E3FC;\n",
              "    }\n",
              "\n",
              "    [theme=dark] .colab-df-convert:hover {\n",
              "      background-color: #434B5C;\n",
              "      box-shadow: 0px 1px 3px 1px rgba(0, 0, 0, 0.15);\n",
              "      filter: drop-shadow(0px 1px 2px rgba(0, 0, 0, 0.3));\n",
              "      fill: #FFFFFF;\n",
              "    }\n",
              "  </style>\n",
              "\n",
              "      <script>\n",
              "        const buttonEl =\n",
              "          document.querySelector('#df-a632a1a4-e4dd-4699-b8ac-0c616b4261b1 button.colab-df-convert');\n",
              "        buttonEl.style.display =\n",
              "          google.colab.kernel.accessAllowed ? 'block' : 'none';\n",
              "\n",
              "        async function convertToInteractive(key) {\n",
              "          const element = document.querySelector('#df-a632a1a4-e4dd-4699-b8ac-0c616b4261b1');\n",
              "          const dataTable =\n",
              "            await google.colab.kernel.invokeFunction('convertToInteractive',\n",
              "                                                     [key], {});\n",
              "          if (!dataTable) return;\n",
              "\n",
              "          const docLinkHtml = 'Like what you see? Visit the ' +\n",
              "            '<a target=\"_blank\" href=https://colab.research.google.com/notebooks/data_table.ipynb>data table notebook</a>'\n",
              "            + ' to learn more about interactive tables.';\n",
              "          element.innerHTML = '';\n",
              "          dataTable['output_type'] = 'display_data';\n",
              "          await google.colab.output.renderOutput(dataTable, element);\n",
              "          const docLink = document.createElement('div');\n",
              "          docLink.innerHTML = docLinkHtml;\n",
              "          element.appendChild(docLink);\n",
              "        }\n",
              "      </script>\n",
              "    </div>\n",
              "  </div>\n",
              "  "
            ]
          },
          "metadata": {},
          "execution_count": 332
        }
      ]
    },
    {
      "cell_type": "code",
      "source": [
        "data.columns\n"
      ],
      "metadata": {
        "colab": {
          "base_uri": "https://localhost:8080/"
        },
        "id": "C--H1n2-9R8y",
        "outputId": "a4f9980a-f2f4-4c19-f938-02508ba45dbe"
      },
      "execution_count": null,
      "outputs": [
        {
          "output_type": "execute_result",
          "data": {
            "text/plain": [
              "Index(['id', 'date', 'time', 'country', 'nearest_places', 'hazard_type',\n",
              "       'landslide_type', 'trigger', 'storm_name', 'fatalities', 'injuries',\n",
              "       'source_name', 'source_link', 'location_description',\n",
              "       'location_accuracy', 'landslide_size', 'photos_link', 'cat_src',\n",
              "       'cat_id', 'countryname', 'near', 'distance', 'adminname1', 'adminname2',\n",
              "       'population', 'countrycode', 'continentcode', 'key', 'version',\n",
              "       'tstamp', 'changeset_id', 'latitude', 'longitude', 'geolocation'],\n",
              "      dtype='object')"
            ]
          },
          "metadata": {},
          "execution_count": 289
        }
      ]
    },
    {
      "cell_type": "markdown",
      "source": [
        "#CLEANING DATA\n",
        "#1)Dropping the columns which don't have useful information/relevant information for prediction\n",
        "The data which is specific to the calamity event like id is not going to generate patterns that the model can learn.\n",
        "\n",
        "\n",
        "Dropping these columns helps the model to focus on the important features for prediction\n",
        "\n",
        "#2) Removing rows with NULL values/Not Available values."
      ],
      "metadata": {
        "id": "XJ5qe1wmi_l5"
      }
    },
    {
      "cell_type": "code",
      "source": [
        "data.drop('storm_name',inplace=True,axis=1)\n",
        "data.drop('source_name',inplace=True,axis=1)\n",
        "data.drop('source_link',inplace=True,axis=1)\n",
        "data.drop('photos_link',inplace=True,axis=1)\n",
        "data.drop('cat_src',inplace=True,axis=1)\n",
        "data.drop('adminname1',inplace=True,axis=1)\n",
        "data.drop('adminname2',inplace=True,axis=1)\n",
        "data.columns"
      ],
      "metadata": {
        "colab": {
          "base_uri": "https://localhost:8080/"
        },
        "id": "Sv0xf7Uk9gw6",
        "outputId": "6bc16c41-342f-4136-acbb-1a7e856cb78b"
      },
      "execution_count": null,
      "outputs": [
        {
          "output_type": "execute_result",
          "data": {
            "text/plain": [
              "Index(['id', 'date', 'time', 'country', 'nearest_places', 'hazard_type',\n",
              "       'landslide_type', 'trigger', 'fatalities', 'injuries',\n",
              "       'location_description', 'location_accuracy', 'landslide_size', 'cat_id',\n",
              "       'countryname', 'near', 'distance', 'population', 'countrycode',\n",
              "       'continentcode', 'key', 'version', 'tstamp', 'changeset_id', 'latitude',\n",
              "       'longitude', 'geolocation'],\n",
              "      dtype='object')"
            ]
          },
          "metadata": {},
          "execution_count": 290
        }
      ]
    },
    {
      "cell_type": "code",
      "source": [
        "data.drop('key',inplace=True,axis=1)\n",
        "data.drop('country',inplace=True,axis=1)\n",
        "data.drop('countryname',inplace=True,axis=1)\n",
        "data.drop('hazard_type',inplace=True,axis=1)\n",
        "data.drop('geolocation',inplace=True,axis=1)\n",
        "data.head()\n",
        "\n"
      ],
      "metadata": {
        "colab": {
          "base_uri": "https://localhost:8080/",
          "height": 647
        },
        "id": "Kxs7A6nsDRVQ",
        "outputId": "1b31fe2a-ecfd-44cb-f47d-ef15938edecc"
      },
      "execution_count": null,
      "outputs": [
        {
          "output_type": "execute_result",
          "data": {
            "text/plain": [
              "   id        date time                        nearest_places landslide_type  \\\n",
              "0   1  01/02/2007  NaN                   Whitehaven, Cumbria      Landslide   \n",
              "1   2  01/03/2007  NaN  Alto Mesapata, in the Pasco province        Complex   \n",
              "2   3  01/05/2007  NaN         Nova Friburgo, Rio de Janeiro      Landslide   \n",
              "3   4  01/05/2007  NaN             Sumidouro, Rio de Janeiro      Landslide   \n",
              "4   5  01/05/2007  NaN                    Jundiai, Sao Paulo      Landslide   \n",
              "\n",
              "  trigger  fatalities  injuries location_description   location_accuracy  ...  \\\n",
              "0    Rain         1.0       NaN                  NaN   Known_within_5_km  ...   \n",
              "1    Rain         NaN       NaN                  NaN             Unknown  ...   \n",
              "2    Rain         7.0       NaN                  NaN  Known_within_25_km  ...   \n",
              "3    Rain         2.0       NaN                  NaN  Known_within_10_km  ...   \n",
              "4    Rain         1.0       NaN                  NaN  Known_within_50_km  ...   \n",
              "\n",
              "            near  distance population  countrycode  continentcode version  \\\n",
              "0     Whitehaven   0.22405    24803.0           GB             EU     1.0   \n",
              "1    Huancabamba  12.26171        0.0           PE             SA     1.0   \n",
              "2  Nova Friburgo   0.63016   153361.0           BR             SA     1.0   \n",
              "3          Carmo  14.05144    11555.0           BR             SA     1.0   \n",
              "4     Mairipor√£  10.07582    54415.0           BR             SA     1.0   \n",
              "\n",
              "                                    tstamp  changeset_id   latitude  longitude  \n",
              "0  Tue Apr 01 2014 00:00:00 GMT+0000 (UTC)           1.0  54.549400  -3.587500  \n",
              "1  Tue Apr 01 2014 00:00:00 GMT+0000 (UTC)           1.0 -10.383800 -75.426700  \n",
              "2  Tue Apr 01 2014 00:00:00 GMT+0000 (UTC)           1.0 -22.282346 -42.536362  \n",
              "3  Tue Apr 01 2014 00:00:00 GMT+0000 (UTC)           1.0 -22.045200 -42.673400  \n",
              "4  Tue Apr 01 2014 00:00:00 GMT+0000 (UTC)           1.0 -23.231100 -46.613600  \n",
              "\n",
              "[5 rows x 22 columns]"
            ],
            "text/html": [
              "\n",
              "  <div id=\"df-1bb5f247-fc62-418d-9414-b40ca720dcb7\">\n",
              "    <div class=\"colab-df-container\">\n",
              "      <div>\n",
              "<style scoped>\n",
              "    .dataframe tbody tr th:only-of-type {\n",
              "        vertical-align: middle;\n",
              "    }\n",
              "\n",
              "    .dataframe tbody tr th {\n",
              "        vertical-align: top;\n",
              "    }\n",
              "\n",
              "    .dataframe thead th {\n",
              "        text-align: right;\n",
              "    }\n",
              "</style>\n",
              "<table border=\"1\" class=\"dataframe\">\n",
              "  <thead>\n",
              "    <tr style=\"text-align: right;\">\n",
              "      <th></th>\n",
              "      <th>id</th>\n",
              "      <th>date</th>\n",
              "      <th>time</th>\n",
              "      <th>nearest_places</th>\n",
              "      <th>landslide_type</th>\n",
              "      <th>trigger</th>\n",
              "      <th>fatalities</th>\n",
              "      <th>injuries</th>\n",
              "      <th>location_description</th>\n",
              "      <th>location_accuracy</th>\n",
              "      <th>...</th>\n",
              "      <th>near</th>\n",
              "      <th>distance</th>\n",
              "      <th>population</th>\n",
              "      <th>countrycode</th>\n",
              "      <th>continentcode</th>\n",
              "      <th>version</th>\n",
              "      <th>tstamp</th>\n",
              "      <th>changeset_id</th>\n",
              "      <th>latitude</th>\n",
              "      <th>longitude</th>\n",
              "    </tr>\n",
              "  </thead>\n",
              "  <tbody>\n",
              "    <tr>\n",
              "      <th>0</th>\n",
              "      <td>1</td>\n",
              "      <td>01/02/2007</td>\n",
              "      <td>NaN</td>\n",
              "      <td>Whitehaven, Cumbria</td>\n",
              "      <td>Landslide</td>\n",
              "      <td>Rain</td>\n",
              "      <td>1.0</td>\n",
              "      <td>NaN</td>\n",
              "      <td>NaN</td>\n",
              "      <td>Known_within_5_km</td>\n",
              "      <td>...</td>\n",
              "      <td>Whitehaven</td>\n",
              "      <td>0.22405</td>\n",
              "      <td>24803.0</td>\n",
              "      <td>GB</td>\n",
              "      <td>EU</td>\n",
              "      <td>1.0</td>\n",
              "      <td>Tue Apr 01 2014 00:00:00 GMT+0000 (UTC)</td>\n",
              "      <td>1.0</td>\n",
              "      <td>54.549400</td>\n",
              "      <td>-3.587500</td>\n",
              "    </tr>\n",
              "    <tr>\n",
              "      <th>1</th>\n",
              "      <td>2</td>\n",
              "      <td>01/03/2007</td>\n",
              "      <td>NaN</td>\n",
              "      <td>Alto Mesapata, in the Pasco province</td>\n",
              "      <td>Complex</td>\n",
              "      <td>Rain</td>\n",
              "      <td>NaN</td>\n",
              "      <td>NaN</td>\n",
              "      <td>NaN</td>\n",
              "      <td>Unknown</td>\n",
              "      <td>...</td>\n",
              "      <td>Huancabamba</td>\n",
              "      <td>12.26171</td>\n",
              "      <td>0.0</td>\n",
              "      <td>PE</td>\n",
              "      <td>SA</td>\n",
              "      <td>1.0</td>\n",
              "      <td>Tue Apr 01 2014 00:00:00 GMT+0000 (UTC)</td>\n",
              "      <td>1.0</td>\n",
              "      <td>-10.383800</td>\n",
              "      <td>-75.426700</td>\n",
              "    </tr>\n",
              "    <tr>\n",
              "      <th>2</th>\n",
              "      <td>3</td>\n",
              "      <td>01/05/2007</td>\n",
              "      <td>NaN</td>\n",
              "      <td>Nova Friburgo, Rio de Janeiro</td>\n",
              "      <td>Landslide</td>\n",
              "      <td>Rain</td>\n",
              "      <td>7.0</td>\n",
              "      <td>NaN</td>\n",
              "      <td>NaN</td>\n",
              "      <td>Known_within_25_km</td>\n",
              "      <td>...</td>\n",
              "      <td>Nova Friburgo</td>\n",
              "      <td>0.63016</td>\n",
              "      <td>153361.0</td>\n",
              "      <td>BR</td>\n",
              "      <td>SA</td>\n",
              "      <td>1.0</td>\n",
              "      <td>Tue Apr 01 2014 00:00:00 GMT+0000 (UTC)</td>\n",
              "      <td>1.0</td>\n",
              "      <td>-22.282346</td>\n",
              "      <td>-42.536362</td>\n",
              "    </tr>\n",
              "    <tr>\n",
              "      <th>3</th>\n",
              "      <td>4</td>\n",
              "      <td>01/05/2007</td>\n",
              "      <td>NaN</td>\n",
              "      <td>Sumidouro, Rio de Janeiro</td>\n",
              "      <td>Landslide</td>\n",
              "      <td>Rain</td>\n",
              "      <td>2.0</td>\n",
              "      <td>NaN</td>\n",
              "      <td>NaN</td>\n",
              "      <td>Known_within_10_km</td>\n",
              "      <td>...</td>\n",
              "      <td>Carmo</td>\n",
              "      <td>14.05144</td>\n",
              "      <td>11555.0</td>\n",
              "      <td>BR</td>\n",
              "      <td>SA</td>\n",
              "      <td>1.0</td>\n",
              "      <td>Tue Apr 01 2014 00:00:00 GMT+0000 (UTC)</td>\n",
              "      <td>1.0</td>\n",
              "      <td>-22.045200</td>\n",
              "      <td>-42.673400</td>\n",
              "    </tr>\n",
              "    <tr>\n",
              "      <th>4</th>\n",
              "      <td>5</td>\n",
              "      <td>01/05/2007</td>\n",
              "      <td>NaN</td>\n",
              "      <td>Jundiai, Sao Paulo</td>\n",
              "      <td>Landslide</td>\n",
              "      <td>Rain</td>\n",
              "      <td>1.0</td>\n",
              "      <td>NaN</td>\n",
              "      <td>NaN</td>\n",
              "      <td>Known_within_50_km</td>\n",
              "      <td>...</td>\n",
              "      <td>Mairipor√£</td>\n",
              "      <td>10.07582</td>\n",
              "      <td>54415.0</td>\n",
              "      <td>BR</td>\n",
              "      <td>SA</td>\n",
              "      <td>1.0</td>\n",
              "      <td>Tue Apr 01 2014 00:00:00 GMT+0000 (UTC)</td>\n",
              "      <td>1.0</td>\n",
              "      <td>-23.231100</td>\n",
              "      <td>-46.613600</td>\n",
              "    </tr>\n",
              "  </tbody>\n",
              "</table>\n",
              "<p>5 rows × 22 columns</p>\n",
              "</div>\n",
              "      <button class=\"colab-df-convert\" onclick=\"convertToInteractive('df-1bb5f247-fc62-418d-9414-b40ca720dcb7')\"\n",
              "              title=\"Convert this dataframe to an interactive table.\"\n",
              "              style=\"display:none;\">\n",
              "        \n",
              "  <svg xmlns=\"http://www.w3.org/2000/svg\" height=\"24px\"viewBox=\"0 0 24 24\"\n",
              "       width=\"24px\">\n",
              "    <path d=\"M0 0h24v24H0V0z\" fill=\"none\"/>\n",
              "    <path d=\"M18.56 5.44l.94 2.06.94-2.06 2.06-.94-2.06-.94-.94-2.06-.94 2.06-2.06.94zm-11 1L8.5 8.5l.94-2.06 2.06-.94-2.06-.94L8.5 2.5l-.94 2.06-2.06.94zm10 10l.94 2.06.94-2.06 2.06-.94-2.06-.94-.94-2.06-.94 2.06-2.06.94z\"/><path d=\"M17.41 7.96l-1.37-1.37c-.4-.4-.92-.59-1.43-.59-.52 0-1.04.2-1.43.59L10.3 9.45l-7.72 7.72c-.78.78-.78 2.05 0 2.83L4 21.41c.39.39.9.59 1.41.59.51 0 1.02-.2 1.41-.59l7.78-7.78 2.81-2.81c.8-.78.8-2.07 0-2.86zM5.41 20L4 18.59l7.72-7.72 1.47 1.35L5.41 20z\"/>\n",
              "  </svg>\n",
              "      </button>\n",
              "      \n",
              "  <style>\n",
              "    .colab-df-container {\n",
              "      display:flex;\n",
              "      flex-wrap:wrap;\n",
              "      gap: 12px;\n",
              "    }\n",
              "\n",
              "    .colab-df-convert {\n",
              "      background-color: #E8F0FE;\n",
              "      border: none;\n",
              "      border-radius: 50%;\n",
              "      cursor: pointer;\n",
              "      display: none;\n",
              "      fill: #1967D2;\n",
              "      height: 32px;\n",
              "      padding: 0 0 0 0;\n",
              "      width: 32px;\n",
              "    }\n",
              "\n",
              "    .colab-df-convert:hover {\n",
              "      background-color: #E2EBFA;\n",
              "      box-shadow: 0px 1px 2px rgba(60, 64, 67, 0.3), 0px 1px 3px 1px rgba(60, 64, 67, 0.15);\n",
              "      fill: #174EA6;\n",
              "    }\n",
              "\n",
              "    [theme=dark] .colab-df-convert {\n",
              "      background-color: #3B4455;\n",
              "      fill: #D2E3FC;\n",
              "    }\n",
              "\n",
              "    [theme=dark] .colab-df-convert:hover {\n",
              "      background-color: #434B5C;\n",
              "      box-shadow: 0px 1px 3px 1px rgba(0, 0, 0, 0.15);\n",
              "      filter: drop-shadow(0px 1px 2px rgba(0, 0, 0, 0.3));\n",
              "      fill: #FFFFFF;\n",
              "    }\n",
              "  </style>\n",
              "\n",
              "      <script>\n",
              "        const buttonEl =\n",
              "          document.querySelector('#df-1bb5f247-fc62-418d-9414-b40ca720dcb7 button.colab-df-convert');\n",
              "        buttonEl.style.display =\n",
              "          google.colab.kernel.accessAllowed ? 'block' : 'none';\n",
              "\n",
              "        async function convertToInteractive(key) {\n",
              "          const element = document.querySelector('#df-1bb5f247-fc62-418d-9414-b40ca720dcb7');\n",
              "          const dataTable =\n",
              "            await google.colab.kernel.invokeFunction('convertToInteractive',\n",
              "                                                     [key], {});\n",
              "          if (!dataTable) return;\n",
              "\n",
              "          const docLinkHtml = 'Like what you see? Visit the ' +\n",
              "            '<a target=\"_blank\" href=https://colab.research.google.com/notebooks/data_table.ipynb>data table notebook</a>'\n",
              "            + ' to learn more about interactive tables.';\n",
              "          element.innerHTML = '';\n",
              "          dataTable['output_type'] = 'display_data';\n",
              "          await google.colab.output.renderOutput(dataTable, element);\n",
              "          const docLink = document.createElement('div');\n",
              "          docLink.innerHTML = docLinkHtml;\n",
              "          element.appendChild(docLink);\n",
              "        }\n",
              "      </script>\n",
              "    </div>\n",
              "  </div>\n",
              "  "
            ]
          },
          "metadata": {},
          "execution_count": 291
        }
      ]
    },
    {
      "cell_type": "code",
      "source": [
        "data.drop('time',inplace=True,axis=1)\n",
        "data.drop('id',inplace=True,axis=1)\n",
        "# print(data.landslide_size.unique())"
      ],
      "metadata": {
        "id": "qc-XORyNFMiP"
      },
      "execution_count": null,
      "outputs": []
    },
    {
      "cell_type": "code",
      "source": [
        "data.drop('version',inplace=True,axis=1)\n",
        "data.drop('changeset_id',inplace=True,axis=1)\n",
        "data.drop('cat_id',inplace=True,axis=1)\n",
        "data.drop('nearest_places',inplace=True,axis=1)\n",
        "data.drop('near',inplace=True,axis=1)\n"
      ],
      "metadata": {
        "id": "8lv4Jh1LdCKL"
      },
      "execution_count": null,
      "outputs": []
    },
    {
      "cell_type": "code",
      "source": [
        "data['Timestamp']=pd.to_datetime(data['tstamp']).astype('int64')/ 10**18\n",
        "# data['Timestamp']=list(np.array(data['Timestamp'])).timestamp()"
      ],
      "metadata": {
        "id": "hTfvKLaOfbh_"
      },
      "execution_count": null,
      "outputs": []
    },
    {
      "cell_type": "code",
      "source": [
        "print(data.head())"
      ],
      "metadata": {
        "colab": {
          "base_uri": "https://localhost:8080/"
        },
        "id": "Ha2neNsIFGg_",
        "outputId": "49525dee-6496-41d0-9044-f69488dfccc6"
      },
      "execution_count": null,
      "outputs": [
        {
          "output_type": "stream",
          "name": "stdout",
          "text": [
            "         date landslide_type trigger  fatalities  injuries  \\\n",
            "0  01/02/2007      Landslide    Rain         1.0       NaN   \n",
            "1  01/03/2007        Complex    Rain         NaN       NaN   \n",
            "2  01/05/2007      Landslide    Rain         7.0       NaN   \n",
            "3  01/05/2007      Landslide    Rain         2.0       NaN   \n",
            "4  01/05/2007      Landslide    Rain         1.0       NaN   \n",
            "\n",
            "  location_description   location_accuracy landslide_size  distance  \\\n",
            "0                  NaN   Known_within_5_km         Medium   0.22405   \n",
            "1                  NaN             Unknown         Medium  12.26171   \n",
            "2                  NaN  Known_within_25_km          Large   0.63016   \n",
            "3                  NaN  Known_within_10_km         Medium  14.05144   \n",
            "4                  NaN  Known_within_50_km         Medium  10.07582   \n",
            "\n",
            "   population countrycode continentcode  \\\n",
            "0     24803.0          GB            EU   \n",
            "1         0.0          PE            SA   \n",
            "2    153361.0          BR            SA   \n",
            "3     11555.0          BR            SA   \n",
            "4     54415.0          BR            SA   \n",
            "\n",
            "                                    tstamp   latitude  longitude  Timestamp  \n",
            "0  Tue Apr 01 2014 00:00:00 GMT+0000 (UTC)  54.549400  -3.587500    1.39631  \n",
            "1  Tue Apr 01 2014 00:00:00 GMT+0000 (UTC) -10.383800 -75.426700    1.39631  \n",
            "2  Tue Apr 01 2014 00:00:00 GMT+0000 (UTC) -22.282346 -42.536362    1.39631  \n",
            "3  Tue Apr 01 2014 00:00:00 GMT+0000 (UTC) -22.045200 -42.673400    1.39631  \n",
            "4  Tue Apr 01 2014 00:00:00 GMT+0000 (UTC) -23.231100 -46.613600    1.39631  \n"
          ]
        }
      ]
    },
    {
      "cell_type": "code",
      "source": [
        "data.drop('tstamp',inplace=True,axis=1)\n",
        "data.drop('date',inplace=True,axis=1)"
      ],
      "metadata": {
        "id": "DaCSxy0ffMXy"
      },
      "execution_count": null,
      "outputs": []
    },
    {
      "cell_type": "code",
      "source": [
        "print(data.shape)"
      ],
      "metadata": {
        "colab": {
          "base_uri": "https://localhost:8080/"
        },
        "id": "tZ3DyN19lQO7",
        "outputId": "32a7777e-7b09-45d1-db9b-dfe5462ab92a"
      },
      "execution_count": null,
      "outputs": [
        {
          "output_type": "stream",
          "name": "stdout",
          "text": [
            "(9564, 14)\n"
          ]
        }
      ]
    },
    {
      "cell_type": "code",
      "source": [
        "data.dropna(how='any',inplace=True,axis=0)"
      ],
      "metadata": {
        "id": "wt06WPbeg4nv"
      },
      "execution_count": null,
      "outputs": []
    },
    {
      "cell_type": "code",
      "source": [
        "print(data.shape)"
      ],
      "metadata": {
        "colab": {
          "base_uri": "https://localhost:8080/"
        },
        "id": "gYpsSycVlY-W",
        "outputId": "66e9f9c8-6dcd-43f8-9a15-2a0d9b826a57"
      },
      "execution_count": null,
      "outputs": [
        {
          "output_type": "stream",
          "name": "stdout",
          "text": [
            "(1671, 14)\n"
          ]
        }
      ]
    },
    {
      "cell_type": "code",
      "source": [
        "print(data.shape)"
      ],
      "metadata": {
        "colab": {
          "base_uri": "https://localhost:8080/"
        },
        "id": "yoyTcDnQlBJQ",
        "outputId": "458e1ee6-79a1-488b-92e0-7063712d3cef"
      },
      "execution_count": null,
      "outputs": [
        {
          "output_type": "stream",
          "name": "stdout",
          "text": [
            "(1671, 14)\n"
          ]
        }
      ]
    },
    {
      "cell_type": "markdown",
      "source": [
        "As we can see some strings denote the same meaning but are different by capitalisation, underscore etc. This will create additional categories for the exact same category.\n",
        "\n",
        "Hence replacing these strings with minor differences like underscore,spelling,format etc with a uniform label to make dataset even more meaningful"
      ],
      "metadata": {
        "id": "iRrnIZc1j706"
      }
    },
    {
      "cell_type": "code",
      "source": [
        "from math import nan\n",
        "data['location_accuracy'] = data['location_accuracy'].replace(['Known_within_15km', 'Known_within_15_km'], 15)\n",
        "data['location_accuracy'] = data['location_accuracy'].replace(['Known_within_5km', 'Known_within_5_km'], 5)\n",
        "data['location_accuracy'] = data['location_accuracy'].replace(['Known_within_25_km', 'Known_within_25km'], 25)\n",
        "data['location_accuracy'] = data['location_accuracy'].replace(['Known_within_50km','Known_within_50_km'], 50)\n",
        "data['location_accuracy'] = data['location_accuracy'].replace(['Exact_Location', 'Exact_location'], 0)\n",
        "data['location_accuracy'] = data['location_accuracy'].replace(['Unknown'],nan)\n",
        "data['location_accuracy'] = data['location_accuracy'].replace(['Known_within_1_km', 'Known_within_1km'], 1)\n",
        "data['location_accuracy'] = data['location_accuracy'].replace(['Known_within_30_km', 'Known_within_30km'], 30)\n",
        "data['location_accuracy'] = data['location_accuracy'].replace(['Known_within_200_km', 'Known_within_200','Known_within_200km'], 200)\n",
        "data['location_accuracy'] = data['location_accuracy'].replace(['Known_within_20_km','Known_within_20km'], 20)\n",
        "data['location_accuracy'] = data['location_accuracy'].replace(['Known_within_35_km', ], 35)\n",
        "data['location_accuracy'] = data['location_accuracy'].replace(['Known_within_2km'], 2)\n",
        "data['location_accuracy'] = data['location_accuracy'].replace(['Known_within_3km'], 3)\n",
        "data['location_accuracy'] = data['location_accuracy'].replace(['Known_within_40km'], 40)\n",
        "data['location_accuracy'] = data['location_accuracy'].replace(['Known_within_1000km'], 1000)\n",
        "data['location_accuracy'] = data['location_accuracy'].replace(['Known_within_75km'], 75)\n",
        "data['location_accuracy'] = data['location_accuracy'].replace(['Known_within_100km','Known_within_100_km'], 100)\n",
        "data['location_accuracy'] = data['location_accuracy'].replace(['Known_within_0.5km'], 0.5)\n",
        "data['location_accuracy'] = data['location_accuracy'].replace(['Known_within_150km'], 75)\n",
        "data['location_accuracy'] = data['location_accuracy'].replace(['Known_within_250km'], 100)\n",
        "data['location_accuracy'] = data['location_accuracy'].replace(['Known_within_500km'], 500)\n",
        "data['location_accuracy'] = data['location_accuracy'].replace(['Known_within_10_km','Known_within_10_km','Known_within_10km'], 10)\n",
        "data['location_accuracy'] = data['location_accuracy'].replace(['Known_within_350km'], 350)\n",
        "data['location_accuracy'] = data['location_accuracy'].replace(['Known_within_4km'], 4)\n",
        "print(data.shape)"
      ],
      "metadata": {
        "colab": {
          "base_uri": "https://localhost:8080/"
        },
        "id": "5qcIYViFisxt",
        "outputId": "e1bb16b9-69db-4f2b-f2be-4350ac5ff8a6"
      },
      "execution_count": null,
      "outputs": [
        {
          "output_type": "stream",
          "name": "stdout",
          "text": [
            "(1671, 14)\n"
          ]
        }
      ]
    },
    {
      "cell_type": "code",
      "source": [
        "data.dropna(how='any',inplace=True)\n",
        "print(data.shape)"
      ],
      "metadata": {
        "colab": {
          "base_uri": "https://localhost:8080/"
        },
        "id": "DDDwT1fetwJJ",
        "outputId": "94ebd6da-4ed4-4c99-b1b3-b42a666cb7a2"
      },
      "execution_count": null,
      "outputs": [
        {
          "output_type": "stream",
          "name": "stdout",
          "text": [
            "(1581, 14)\n"
          ]
        }
      ]
    },
    {
      "cell_type": "code",
      "source": [
        "data['landslide_type'] = data['landslide_type'].replace(['Landslide','landslide'],'Landslide')\n",
        "data['landslide_type'] = data['landslide_type'].replace(['mudslide'],'Mudslide')"
      ],
      "metadata": {
        "id": "9hotzQimwrH5"
      },
      "execution_count": null,
      "outputs": []
    },
    {
      "cell_type": "code",
      "source": [
        "data['trigger'] = data['trigger'].replace(['unknown'],'Unknown')\n",
        "data['trigger'] = data['trigger'].replace(['No_Apparent_trigger'],'No_Apparent_Trigger')\n",
        "data['trigger'] = data['trigger'].replace(['monsoon'],'Monsoon')\n",
        "data['trigger'] = data['trigger'].replace(['Continuous_rain'],'Continuous_Rain')"
      ],
      "metadata": {
        "id": "iSbo_tYHxSYB"
      },
      "execution_count": null,
      "outputs": []
    },
    {
      "cell_type": "code",
      "source": [
        "data['location_description'] = data['location_description'].replace(['Other-_Construction_Zone'],'Construction_zone')\n",
        "data['location_description'] = data['location_description'].replace(['above road','above_road'],'Above_road')\n",
        "data['location_description'] = data['location_description'].replace(['unknown'],'Unknown')\n",
        "data['location_description'] = data['location_description'].replace(['Above_railraod'],'Above_Railroad')"
      ],
      "metadata": {
        "id": "wx72sVBIyknP"
      },
      "execution_count": null,
      "outputs": []
    },
    {
      "cell_type": "code",
      "source": [
        "data['landslide_size'] = data['landslide_size'].replace(['medium'],'Medium')\n",
        "data['landslide_size'] = data['landslide_size'].replace(['large'],'Large')\n",
        "data['landslide_size'] = data['landslide_size'].replace(['small'],'Small')"
      ],
      "metadata": {
        "id": "xSjV2kNlzrEf"
      },
      "execution_count": null,
      "outputs": []
    },
    {
      "cell_type": "markdown",
      "source": [
        "Since the number of country codes is large, We can use OrdinalEncoder for encoding this string data. using one hot encoding would increase the number of features by a large amount."
      ],
      "metadata": {
        "id": "kie6JQDvklFL"
      }
    },
    {
      "cell_type": "code",
      "source": [
        "from sklearn.preprocessing import OrdinalEncoder\n",
        "oe=OrdinalEncoder()"
      ],
      "metadata": {
        "id": "cIJq1OlWsZbt"
      },
      "execution_count": null,
      "outputs": []
    },
    {
      "cell_type": "code",
      "source": [
        "data['countrycode']=np.array(oe.fit_transform(pd.DataFrame(data.countrycode)))"
      ],
      "metadata": {
        "id": "P0CXuNUw8AuJ"
      },
      "execution_count": null,
      "outputs": []
    },
    {
      "cell_type": "code",
      "source": [
        "\n",
        "data.head()"
      ],
      "metadata": {
        "colab": {
          "base_uri": "https://localhost:8080/",
          "height": 270
        },
        "id": "pLtv9eKQ8ioe",
        "outputId": "f44910a5-8ab5-4fb8-d000-62e17ef0716c"
      },
      "execution_count": null,
      "outputs": [
        {
          "output_type": "execute_result",
          "data": {
            "text/plain": [
              "     landslide_type                  trigger  fatalities  injuries  \\\n",
              "83        Landslide                  Monsoon       128.0     150.0   \n",
              "484       Landslide                 Downpour         4.0      10.0   \n",
              "783         Complex  Dam_Embankment_Collapse       277.0      33.0   \n",
              "1036      Landslide                 Downpour         4.0       3.0   \n",
              "1187       Mudslide                 Downpour         3.0       5.0   \n",
              "\n",
              "     location_description  location_accuracy landslide_size  distance  \\\n",
              "83             Urban_area               15.0     Very_large   2.48492   \n",
              "484           Above_river                5.0         Medium  10.29236   \n",
              "783     Mine_construction               25.0     Very_large   6.02877   \n",
              "1036              Unknown                5.0         Medium  10.34155   \n",
              "1187              Unknown               50.0         Medium   1.16036   \n",
              "\n",
              "      population  countrycode continentcode  latitude   longitude  Timestamp  \n",
              "83     3920222.0          6.0            AS  22.35550   91.820500   1.450300  \n",
              "484       7506.0         62.0            AS   6.53090  125.461600   1.452275  \n",
              "783          0.0         15.0            AS  35.88530  111.583700   1.439936  \n",
              "1036     24561.0         53.0            AS  10.00028   98.548662   1.396310  \n",
              "1187    200421.0         19.0            SA  -0.31520  -78.972400   1.452634  "
            ],
            "text/html": [
              "\n",
              "  <div id=\"df-11a29871-e081-4551-8055-0974151f1e55\">\n",
              "    <div class=\"colab-df-container\">\n",
              "      <div>\n",
              "<style scoped>\n",
              "    .dataframe tbody tr th:only-of-type {\n",
              "        vertical-align: middle;\n",
              "    }\n",
              "\n",
              "    .dataframe tbody tr th {\n",
              "        vertical-align: top;\n",
              "    }\n",
              "\n",
              "    .dataframe thead th {\n",
              "        text-align: right;\n",
              "    }\n",
              "</style>\n",
              "<table border=\"1\" class=\"dataframe\">\n",
              "  <thead>\n",
              "    <tr style=\"text-align: right;\">\n",
              "      <th></th>\n",
              "      <th>landslide_type</th>\n",
              "      <th>trigger</th>\n",
              "      <th>fatalities</th>\n",
              "      <th>injuries</th>\n",
              "      <th>location_description</th>\n",
              "      <th>location_accuracy</th>\n",
              "      <th>landslide_size</th>\n",
              "      <th>distance</th>\n",
              "      <th>population</th>\n",
              "      <th>countrycode</th>\n",
              "      <th>continentcode</th>\n",
              "      <th>latitude</th>\n",
              "      <th>longitude</th>\n",
              "      <th>Timestamp</th>\n",
              "    </tr>\n",
              "  </thead>\n",
              "  <tbody>\n",
              "    <tr>\n",
              "      <th>83</th>\n",
              "      <td>Landslide</td>\n",
              "      <td>Monsoon</td>\n",
              "      <td>128.0</td>\n",
              "      <td>150.0</td>\n",
              "      <td>Urban_area</td>\n",
              "      <td>15.0</td>\n",
              "      <td>Very_large</td>\n",
              "      <td>2.48492</td>\n",
              "      <td>3920222.0</td>\n",
              "      <td>6.0</td>\n",
              "      <td>AS</td>\n",
              "      <td>22.35550</td>\n",
              "      <td>91.820500</td>\n",
              "      <td>1.450300</td>\n",
              "    </tr>\n",
              "    <tr>\n",
              "      <th>484</th>\n",
              "      <td>Landslide</td>\n",
              "      <td>Downpour</td>\n",
              "      <td>4.0</td>\n",
              "      <td>10.0</td>\n",
              "      <td>Above_river</td>\n",
              "      <td>5.0</td>\n",
              "      <td>Medium</td>\n",
              "      <td>10.29236</td>\n",
              "      <td>7506.0</td>\n",
              "      <td>62.0</td>\n",
              "      <td>AS</td>\n",
              "      <td>6.53090</td>\n",
              "      <td>125.461600</td>\n",
              "      <td>1.452275</td>\n",
              "    </tr>\n",
              "    <tr>\n",
              "      <th>783</th>\n",
              "      <td>Complex</td>\n",
              "      <td>Dam_Embankment_Collapse</td>\n",
              "      <td>277.0</td>\n",
              "      <td>33.0</td>\n",
              "      <td>Mine_construction</td>\n",
              "      <td>25.0</td>\n",
              "      <td>Very_large</td>\n",
              "      <td>6.02877</td>\n",
              "      <td>0.0</td>\n",
              "      <td>15.0</td>\n",
              "      <td>AS</td>\n",
              "      <td>35.88530</td>\n",
              "      <td>111.583700</td>\n",
              "      <td>1.439936</td>\n",
              "    </tr>\n",
              "    <tr>\n",
              "      <th>1036</th>\n",
              "      <td>Landslide</td>\n",
              "      <td>Downpour</td>\n",
              "      <td>4.0</td>\n",
              "      <td>3.0</td>\n",
              "      <td>Unknown</td>\n",
              "      <td>5.0</td>\n",
              "      <td>Medium</td>\n",
              "      <td>10.34155</td>\n",
              "      <td>24561.0</td>\n",
              "      <td>53.0</td>\n",
              "      <td>AS</td>\n",
              "      <td>10.00028</td>\n",
              "      <td>98.548662</td>\n",
              "      <td>1.396310</td>\n",
              "    </tr>\n",
              "    <tr>\n",
              "      <th>1187</th>\n",
              "      <td>Mudslide</td>\n",
              "      <td>Downpour</td>\n",
              "      <td>3.0</td>\n",
              "      <td>5.0</td>\n",
              "      <td>Unknown</td>\n",
              "      <td>50.0</td>\n",
              "      <td>Medium</td>\n",
              "      <td>1.16036</td>\n",
              "      <td>200421.0</td>\n",
              "      <td>19.0</td>\n",
              "      <td>SA</td>\n",
              "      <td>-0.31520</td>\n",
              "      <td>-78.972400</td>\n",
              "      <td>1.452634</td>\n",
              "    </tr>\n",
              "  </tbody>\n",
              "</table>\n",
              "</div>\n",
              "      <button class=\"colab-df-convert\" onclick=\"convertToInteractive('df-11a29871-e081-4551-8055-0974151f1e55')\"\n",
              "              title=\"Convert this dataframe to an interactive table.\"\n",
              "              style=\"display:none;\">\n",
              "        \n",
              "  <svg xmlns=\"http://www.w3.org/2000/svg\" height=\"24px\"viewBox=\"0 0 24 24\"\n",
              "       width=\"24px\">\n",
              "    <path d=\"M0 0h24v24H0V0z\" fill=\"none\"/>\n",
              "    <path d=\"M18.56 5.44l.94 2.06.94-2.06 2.06-.94-2.06-.94-.94-2.06-.94 2.06-2.06.94zm-11 1L8.5 8.5l.94-2.06 2.06-.94-2.06-.94L8.5 2.5l-.94 2.06-2.06.94zm10 10l.94 2.06.94-2.06 2.06-.94-2.06-.94-.94-2.06-.94 2.06-2.06.94z\"/><path d=\"M17.41 7.96l-1.37-1.37c-.4-.4-.92-.59-1.43-.59-.52 0-1.04.2-1.43.59L10.3 9.45l-7.72 7.72c-.78.78-.78 2.05 0 2.83L4 21.41c.39.39.9.59 1.41.59.51 0 1.02-.2 1.41-.59l7.78-7.78 2.81-2.81c.8-.78.8-2.07 0-2.86zM5.41 20L4 18.59l7.72-7.72 1.47 1.35L5.41 20z\"/>\n",
              "  </svg>\n",
              "      </button>\n",
              "      \n",
              "  <style>\n",
              "    .colab-df-container {\n",
              "      display:flex;\n",
              "      flex-wrap:wrap;\n",
              "      gap: 12px;\n",
              "    }\n",
              "\n",
              "    .colab-df-convert {\n",
              "      background-color: #E8F0FE;\n",
              "      border: none;\n",
              "      border-radius: 50%;\n",
              "      cursor: pointer;\n",
              "      display: none;\n",
              "      fill: #1967D2;\n",
              "      height: 32px;\n",
              "      padding: 0 0 0 0;\n",
              "      width: 32px;\n",
              "    }\n",
              "\n",
              "    .colab-df-convert:hover {\n",
              "      background-color: #E2EBFA;\n",
              "      box-shadow: 0px 1px 2px rgba(60, 64, 67, 0.3), 0px 1px 3px 1px rgba(60, 64, 67, 0.15);\n",
              "      fill: #174EA6;\n",
              "    }\n",
              "\n",
              "    [theme=dark] .colab-df-convert {\n",
              "      background-color: #3B4455;\n",
              "      fill: #D2E3FC;\n",
              "    }\n",
              "\n",
              "    [theme=dark] .colab-df-convert:hover {\n",
              "      background-color: #434B5C;\n",
              "      box-shadow: 0px 1px 3px 1px rgba(0, 0, 0, 0.15);\n",
              "      filter: drop-shadow(0px 1px 2px rgba(0, 0, 0, 0.3));\n",
              "      fill: #FFFFFF;\n",
              "    }\n",
              "  </style>\n",
              "\n",
              "      <script>\n",
              "        const buttonEl =\n",
              "          document.querySelector('#df-11a29871-e081-4551-8055-0974151f1e55 button.colab-df-convert');\n",
              "        buttonEl.style.display =\n",
              "          google.colab.kernel.accessAllowed ? 'block' : 'none';\n",
              "\n",
              "        async function convertToInteractive(key) {\n",
              "          const element = document.querySelector('#df-11a29871-e081-4551-8055-0974151f1e55');\n",
              "          const dataTable =\n",
              "            await google.colab.kernel.invokeFunction('convertToInteractive',\n",
              "                                                     [key], {});\n",
              "          if (!dataTable) return;\n",
              "\n",
              "          const docLinkHtml = 'Like what you see? Visit the ' +\n",
              "            '<a target=\"_blank\" href=https://colab.research.google.com/notebooks/data_table.ipynb>data table notebook</a>'\n",
              "            + ' to learn more about interactive tables.';\n",
              "          element.innerHTML = '';\n",
              "          dataTable['output_type'] = 'display_data';\n",
              "          await google.colab.output.renderOutput(dataTable, element);\n",
              "          const docLink = document.createElement('div');\n",
              "          docLink.innerHTML = docLinkHtml;\n",
              "          element.appendChild(docLink);\n",
              "        }\n",
              "      </script>\n",
              "    </div>\n",
              "  </div>\n",
              "  "
            ]
          },
          "metadata": {},
          "execution_count": 309
        }
      ]
    },
    {
      "cell_type": "markdown",
      "source": [
        "#Segregating columns as numerical/categorical"
      ],
      "metadata": {
        "id": "TkeKhiedk9hJ"
      }
    },
    {
      "cell_type": "code",
      "source": [
        "from pandas.core.reshape.merge import string\n",
        "from sklearn.compose import make_column_selector as selector\n",
        "\n",
        "numerical_columns=['fatalities','injuries','location_accuracy','distance','population','longitude','latitude','countrycode']\n",
        "categorical_columns=['landslide_type','trigger','location_description','continentcode']"
      ],
      "metadata": {
        "id": "upQB-7Y_ByJn"
      },
      "execution_count": null,
      "outputs": []
    },
    {
      "cell_type": "code",
      "source": [
        "for column in data.columns:\n",
        "  print(column)\n",
        "  print(type(data[column].unique()[0]))\n",
        "  print(len(data[column].unique()))\n",
        "  print(data[column].unique())"
      ],
      "metadata": {
        "colab": {
          "base_uri": "https://localhost:8080/"
        },
        "id": "ZK7W9AJcN2zr",
        "outputId": "c7276bd9-e417-4ce3-8f93-66d1a3e541dd"
      },
      "execution_count": null,
      "outputs": [
        {
          "output_type": "stream",
          "name": "stdout",
          "text": [
            "landslide_type\n",
            "<class 'str'>\n",
            "12\n",
            "['Landslide' 'Complex' 'Mudslide' 'Rockfall' 'Riverbank_Collapse' 'Other'\n",
            " 'Debris_Flow' 'Translational_Slide' 'Unknown' 'Snow_Avalanche'\n",
            " 'Earthflow' 'Creep']\n",
            "trigger\n",
            "<class 'str'>\n",
            "15\n",
            "['Monsoon' 'Downpour' 'Dam_Embankment_Collapse' 'Tropical_Cyclone' 'Rain'\n",
            " 'Continuous_Rain' 'Unknown' 'Mining_digging' 'Snowfall_snowmelt' 'Other'\n",
            " 'Flooding' 'Construction' 'Earthquake' 'No_Apparent_Trigger'\n",
            " 'Freeze_thaw']\n",
            "fatalities\n",
            "<class 'numpy.float64'>\n",
            "54\n",
            "[1.28e+02 4.00e+00 2.77e+02 3.00e+00 0.00e+00 1.00e+00 5.00e+00 1.60e+01\n",
            " 2.00e+00 4.10e+01 6.00e+00 1.80e+01 2.30e+01 8.00e+00 1.20e+01 7.00e+00\n",
            " 1.40e+01 1.10e+01 2.10e+03 1.00e+01 9.00e+00 1.30e+01 7.00e+01 1.51e+02\n",
            " 1.74e+02 7.20e+01 1.90e+01 2.20e+01 2.10e+01 3.70e+01 1.00e+02 2.40e+02\n",
            " 5.50e+01 1.08e+02 5.00e+01 9.20e+01 5.30e+01 4.20e+01 2.80e+01 6.00e+01\n",
            " 5.20e+01 2.50e+02 6.40e+01 2.70e+01 1.70e+01 2.00e+01 5.40e+01 6.90e+01\n",
            " 3.40e+01 3.50e+01 4.70e+01 3.80e+01 3.10e+01 8.40e+01]\n",
            "injuries\n",
            "<class 'numpy.float64'>\n",
            "34\n",
            "[150.  10.  33.   3.   5.   0.   2.   4.   1.   7.   9.  16. 225.  18.\n",
            "  20.  12. 100.  19.  52.  22.  11.   8.  14.   6.  25.  40.  21.  13.\n",
            "  26.  24.  50.  32.  46.  17.]\n",
            "location_description\n",
            "<class 'str'>\n",
            "14\n",
            "['Urban_area' 'Above_river' 'Mine_construction' 'Unknown' 'Above_road'\n",
            " 'Natural_slope' 'Retaining_wall' 'Below_road' 'Deforested_slope' 'Bluff'\n",
            " 'Other' 'Construction_zone' 'Above_Railroad' 'Drought']\n",
            "location_accuracy\n",
            "<class 'numpy.float64'>\n",
            "21\n",
            "[1.5e+01 5.0e+00 2.5e+01 5.0e+01 1.0e+01 0.0e+00 1.0e+00 3.0e+01 2.0e+02\n",
            " 1.0e+02 2.0e+01 3.5e+01 2.0e+00 3.0e+00 4.0e+01 1.0e+03 7.5e+01 5.0e-01\n",
            " 3.5e+02 5.0e+02 4.0e+00]\n",
            "landslide_size\n",
            "<class 'str'>\n",
            "5\n",
            "['Very_large' 'Medium' 'Large' 'Small' 'unknown']\n",
            "distance\n",
            "<class 'numpy.float64'>\n",
            "1571\n",
            "[ 2.48492 10.29236  6.02877 ...  1.30467  0.56809  3.24387]\n",
            "population\n",
            "<class 'numpy.float64'>\n",
            "816\n",
            "[3.9202220e+06 7.5060000e+03 0.0000000e+00 2.4561000e+04 2.0042100e+05\n",
            " 6.3710000e+03 2.1130000e+03 9.5010000e+03 2.1690000e+03 3.6290000e+03\n",
            " 1.3000000e+04 2.0090000e+03 6.0961700e+05 2.1228700e+05 1.7350300e+05\n",
            " 2.0000000e+04 3.2430000e+03 1.0983000e+04 1.3998140e+06 6.9302000e+04\n",
            " 8.3591000e+04 1.2691836e+07 2.2117800e+05 1.4797000e+04 7.9863400e+05\n",
            " 1.6300700e+05 2.2210000e+03 5.1393000e+04 2.1044000e+04 4.2563000e+04\n",
            " 2.3296000e+04 1.2871000e+04 1.2000000e+06 3.0418000e+04 6.5800000e+03\n",
            " 1.5159200e+05 3.1900000e+03 7.4810000e+03 8.9100000e+04 1.0442000e+04\n",
            " 1.4539750e+06 3.4274000e+04 3.0970900e+05 3.2150000e+03 3.7770000e+03\n",
            " 9.6640000e+03 2.0574000e+04 2.9200000e+03 4.1235000e+04 2.7641400e+05\n",
            " 4.1720000e+03 1.2520000e+04 1.6671000e+04 2.6000000e+03 2.8643000e+04\n",
            " 3.9660000e+03 2.1280000e+03 8.3030000e+03 2.7624000e+04 1.9294000e+04\n",
            " 4.5732600e+05 1.6890000e+04 1.2960000e+03 3.2393000e+04 1.3266000e+04\n",
            " 1.6808000e+04 4.3610000e+03 2.7880000e+03 1.4756000e+04 5.7700000e+03\n",
            " 1.7730000e+03 1.2880840e+06 1.2494600e+05 2.0330000e+03 4.1576000e+04\n",
            " 9.2156000e+04 9.1845000e+04 2.8530000e+03 7.8600000e+03 2.2821200e+05\n",
            " 6.3869000e+04 4.9450000e+03 1.0830000e+03 2.8243100e+05 6.0819000e+04\n",
            " 5.9851000e+04 2.2700000e+03 1.4108000e+04 1.2646500e+05 8.2900000e+02\n",
            " 2.5620000e+03 7.5631000e+04 1.1146100e+05 1.0676000e+04 1.9940000e+03\n",
            " 1.0730000e+03 1.0740000e+03 1.1420000e+03 7.6870000e+03 4.2170000e+03\n",
            " 1.4125100e+05 1.2856000e+04 1.8780000e+03 2.0310000e+03 3.7680000e+03\n",
            " 3.4218000e+04 1.0403000e+04 1.3510000e+03 2.2640000e+03 1.0910000e+03\n",
            " 1.3540000e+03 4.5992000e+04 5.1559000e+04 3.7949000e+04 2.0942000e+04\n",
            " 1.6360000e+05 1.3489500e+05 4.0500000e+02 7.3170000e+03 1.3721240e+06\n",
            " 1.1843900e+05 4.5040000e+03 1.8317000e+04 7.7366000e+04 1.1690000e+03\n",
            " 8.0000000e+05 3.6392600e+05 3.8410000e+03 6.7550000e+03 8.9440000e+03\n",
            " 5.0000000e+03 1.9510000e+03 1.8313000e+05 2.4798600e+05 9.8960000e+03\n",
            " 5.7182000e+05 7.2500000e+05 4.9080000e+03 9.0894000e+04 1.0609000e+04\n",
            " 1.6752000e+04 6.5000000e+04 7.9714000e+04 2.5636000e+04 7.7276000e+04\n",
            " 3.8190000e+05 1.1434700e+05 8.0263900e+05 2.0254000e+04 8.6110000e+03\n",
            " 1.4138000e+04 1.0866000e+04 1.4927000e+04 5.5290000e+04 5.7441000e+04\n",
            " 5.7830000e+03 1.3641000e+04 2.6280000e+03 2.1185000e+04 6.5870000e+03\n",
            " 6.7740000e+03 1.6510000e+03 6.5586000e+04 5.1140000e+03 4.3733000e+04\n",
            " 7.5000000e+03 8.9820000e+03 2.1117000e+04 1.5855000e+04 3.6771150e+06\n",
            " 9.0730000e+03 5.2192000e+04 3.4460000e+03 1.0091000e+04 7.6304300e+05\n",
            " 8.2910000e+03 2.3416000e+04 3.2289000e+04 3.1277000e+05 2.3693000e+04\n",
            " 3.7543000e+04 4.4540000e+04 2.0000000e+03 8.9909400e+05 1.8000000e+03\n",
            " 2.2660000e+03 2.0000000e+05 2.3940000e+03 5.5011000e+04 2.6240000e+03\n",
            " 7.8756000e+04 1.6000000e+03 1.8331000e+05 2.1330000e+03 6.6210000e+03\n",
            " 4.6629200e+05 2.6533100e+05 2.1916400e+05 4.3000000e+04 7.7645000e+04\n",
            " 4.4632000e+04 1.0715700e+05 2.5753000e+04 2.5710000e+03 4.0200000e+03\n",
            " 1.3443200e+05 2.3900000e+04 1.2710000e+03 7.7840000e+03 3.9820000e+03\n",
            " 3.1381000e+04 4.7571000e+04 2.5997000e+04 1.7944000e+04 2.2264000e+04\n",
            " 9.1060000e+03 3.9058000e+04 4.4971000e+04 1.6586000e+04 1.4387000e+04\n",
            " 1.1360000e+03 3.5370000e+03 2.6246000e+04 2.6912000e+04 1.3897000e+04\n",
            " 1.2420000e+03 7.1585000e+04 3.3060000e+03 1.1438410e+06 5.0921000e+04\n",
            " 1.1716330e+06 2.4670000e+03 2.6440000e+03 1.8705600e+05 5.0206000e+04\n",
            " 2.2496000e+04 1.4084900e+05 2.3350000e+03 3.7291700e+05 3.5300000e+03\n",
            " 2.8484000e+04 6.2058000e+04 1.6011500e+05 4.0000000e+03 1.3284200e+05\n",
            " 6.3645000e+04 3.1091000e+04 2.7792000e+04 1.4047000e+04 9.6520000e+03\n",
            " 4.2090000e+03 1.4190000e+04 1.1265000e+04 1.2350000e+04 2.2610000e+03\n",
            " 2.1370000e+03 5.4270000e+03 3.2069000e+04 1.1170100e+05 4.7210000e+03\n",
            " 2.9499000e+04 2.3610000e+03 2.8217000e+04 2.8197000e+04 1.6557000e+04\n",
            " 5.1660000e+03 1.9000000e+03 6.5080000e+03 3.6622900e+05 9.3238000e+04\n",
            " 7.0000000e+03 3.1850000e+03 1.8198000e+04 1.4070000e+03 8.0447000e+04\n",
            " 9.3580000e+03 2.1234000e+04 8.8200000e+02 8.1010000e+03 1.7748000e+04\n",
            " 8.8965000e+04 1.8860000e+03 2.2180000e+03 4.3030000e+04 1.5960000e+03\n",
            " 1.2346000e+04 3.9751500e+05 1.3265400e+05 3.3300000e+03 7.0940000e+03\n",
            " 3.0016000e+04 1.0870000e+04 7.0703500e+05 9.1630000e+03 3.0690000e+03\n",
            " 5.5421000e+04 3.2162000e+04 1.0531000e+04 5.8448000e+04 9.2990000e+04\n",
            " 8.4500000e+02 5.5430000e+03 8.0550000e+03 2.9455100e+05 2.2903000e+04\n",
            " 7.6341000e+04 3.5461000e+04 2.4400000e+02 6.0160000e+05 6.2050000e+03\n",
            " 1.7123000e+04 6.8735000e+04 2.4529000e+04 6.6636000e+04 6.4000000e+05\n",
            " 1.1740000e+03 1.4950000e+03 2.1207000e+04 2.0436000e+04 2.6840000e+03\n",
            " 2.1867000e+04 4.8810000e+03 9.4460000e+03 7.6010000e+03 1.0000000e+05\n",
            " 5.1437000e+04 2.0178000e+04 3.1200000e+03 1.4420000e+03 9.3830000e+03\n",
            " 3.6560000e+03 7.8050000e+04 4.7587000e+04 2.4519000e+04 3.5520000e+03\n",
            " 1.6567000e+04 2.1630000e+03 2.3500000e+03 1.1110000e+03 1.2406000e+04\n",
            " 1.1991910e+06 1.1870000e+03 4.2069100e+05 2.0770000e+03 3.2200000e+02\n",
            " 2.5164800e+05 1.6707000e+04 2.7696400e+05 1.5276000e+04 4.2742000e+04\n",
            " 4.2200000e+03 7.7650000e+04 3.5790000e+03 5.7040700e+05 4.0890000e+03\n",
            " 7.6300000e+03 2.5000000e+04 3.1965000e+04 3.1779700e+05 4.2310000e+03\n",
            " 3.5180000e+03 2.3902000e+04 1.9998000e+04 6.7290000e+03 3.2523000e+04\n",
            " 8.8760000e+04 7.3930000e+03 1.3917000e+04 3.5860000e+03 4.6427000e+04\n",
            " 2.1764700e+05 3.1031000e+04 8.7010000e+03 3.9218000e+04 3.4457000e+04\n",
            " 1.5228000e+04 3.2780000e+03 3.2030000e+03 1.7516000e+04 3.5160000e+03\n",
            " 5.0260000e+03 3.3710000e+03 1.5000000e+03 9.8989000e+04 2.1502000e+04\n",
            " 2.9890000e+03 6.8070000e+03 3.2580000e+03 5.1000000e+04 3.1020000e+03\n",
            " 6.7620000e+03 6.1840000e+03 9.7600000e+03 4.2211000e+04 1.4711000e+04\n",
            " 1.4965000e+04 1.3035000e+04 1.1779600e+05 1.8565000e+04 8.7450000e+03\n",
            " 1.7840000e+03 2.0553000e+04 6.4060000e+03 5.8000000e+03 2.0070000e+03\n",
            " 4.3500000e+03 6.4280000e+03 2.8020000e+03 8.0360000e+03 1.3865000e+04\n",
            " 6.0740000e+03 1.3565000e+04 4.6900000e+03 6.1660000e+03 3.4049400e+05\n",
            " 2.2352300e+05 2.1300000e+03 6.4460000e+04 1.6060000e+04 5.6560000e+03\n",
            " 1.2379700e+05 5.8562000e+04 1.4422710e+06 2.6163000e+04 2.3700000e+05\n",
            " 1.8820000e+03 1.9720000e+03 8.6280000e+04 1.2000000e+03 2.5378800e+05\n",
            " 4.0557000e+04 2.7991400e+05 4.1791000e+05 2.9220000e+03 7.9966800e+05\n",
            " 6.9220000e+03 8.0248900e+05 5.2005000e+04 7.7500000e+03 1.3838000e+04\n",
            " 1.2825000e+04 1.4640000e+03 2.7602000e+04 4.0260000e+03 7.6200000e+03\n",
            " 1.0109000e+04 2.7118400e+06 3.8570000e+03 1.7260000e+03 1.6518000e+04\n",
            " 2.1730000e+03 4.5762300e+05 2.6530000e+03 4.1410000e+03 1.7491000e+04\n",
            " 3.3623000e+04 4.2309000e+04 8.2467000e+04 1.7930000e+03 1.3310000e+03\n",
            " 1.0614000e+04 2.9850000e+03 1.1970000e+03 2.4020000e+03 2.1647900e+05\n",
            " 4.8830000e+03 1.9709000e+04 8.7458700e+05 4.1738700e+05 2.6199000e+04\n",
            " 1.4236100e+05 2.4931000e+04 2.7814000e+04 2.4120000e+04 2.7611000e+04\n",
            " 2.4582000e+04 1.8122000e+04 8.3410000e+03 3.3340000e+03 2.1000000e+03\n",
            " 2.8407000e+04 3.6150000e+04 6.1540000e+03 3.7619000e+04 7.1210000e+03\n",
            " 3.0970000e+03 1.9540000e+04 7.3310000e+03 3.0000000e+04 1.9343000e+04\n",
            " 2.1780000e+03 3.4850000e+03 2.2830000e+03 2.2850000e+03 7.7704000e+04\n",
            " 2.2620000e+03 3.3800000e+03 2.0009000e+06 3.7475000e+04 9.2113000e+04\n",
            " 2.0730000e+03 1.0048500e+05 6.9011000e+04 7.1760000e+03 2.0050000e+03\n",
            " 4.1910000e+03 1.9831000e+04 6.2836000e+04 1.0056100e+05 2.9710000e+04\n",
            " 1.3547700e+05 2.4981000e+04 2.7893000e+04 7.7250000e+03 2.8600000e+03\n",
            " 2.0908000e+04 3.6420000e+03 5.4700000e+03 9.6368000e+04 3.8909000e+04\n",
            " 1.2240000e+03 2.6252000e+04 7.9016000e+04 4.8940000e+03 5.5660000e+03\n",
            " 8.7970000e+03 1.5118000e+04 4.7774000e+04 7.5280000e+03 1.8909000e+05\n",
            " 1.7471000e+04 4.8110000e+03 3.1550000e+03 4.7560000e+03 9.5460000e+03\n",
            " 2.1930000e+03 1.1226000e+04 1.5480000e+03 4.8150000e+03 7.2944000e+04\n",
            " 1.8898000e+04 2.6660000e+03 1.8421000e+04 3.9440000e+03 1.1205000e+05\n",
            " 7.8719000e+06 6.5009000e+04 6.5900000e+03 4.2900000e+03 1.9280000e+04\n",
            " 2.7978000e+04 2.9820000e+04 6.8042300e+05 2.6677000e+04 1.7400000e+03\n",
            " 1.4037000e+04 2.4460000e+03 1.4294000e+04 4.8310000e+03 1.5570000e+03\n",
            " 2.1320000e+03 4.0268000e+04 4.8551000e+04 2.4730000e+04 1.9120000e+03\n",
            " 8.6685000e+04 8.7613000e+04 7.4910000e+03 1.5886000e+04 2.8420000e+03\n",
            " 9.6760000e+03 2.2179000e+04 1.1670000e+03 2.6893000e+04 1.1001000e+04\n",
            " 1.7519000e+04 3.9620000e+03 5.9630000e+03 1.1043000e+04 2.2500000e+04\n",
            " 2.0560000e+03 3.5430000e+03 1.4351000e+04 2.6665000e+04 1.1166000e+04\n",
            " 2.6388000e+04 1.6311000e+04 1.1320000e+03 2.3338600e+05 9.8238000e+04\n",
            " 3.1029000e+04 7.7839600e+05 2.2760000e+03 2.0284000e+04 9.4903000e+04\n",
            " 4.9710000e+03 1.0530000e+03 3.0311000e+04 3.3945000e+04 3.1495000e+04\n",
            " 4.1170000e+04 1.3945000e+04 2.0820000e+03 6.1990000e+03 6.8950000e+03\n",
            " 1.3236240e+06 1.5035700e+05 4.8962000e+04 2.6983000e+04 1.0010000e+03\n",
            " 3.5450000e+03 9.4188000e+04 3.8538000e+04 4.0283000e+04 2.9340000e+03\n",
            " 1.0631780e+06 5.0890000e+03 5.9116000e+04 2.2084000e+04 9.6730000e+04\n",
            " 4.7130000e+03 4.3600000e+03 1.7293000e+04 9.4660000e+03 1.1624219e+07\n",
            " 1.1730300e+05 1.0694500e+05 2.1260000e+03 2.4940000e+03 1.1400000e+04\n",
            " 8.5580000e+03 2.9331000e+04 1.1147600e+05 4.1140000e+03 8.7123000e+04\n",
            " 6.3678000e+04 2.3240000e+03 3.5280000e+03 3.1319600e+05 3.2972000e+04\n",
            " 5.1750000e+03 1.6919000e+04 2.7863000e+04 3.4021000e+04 5.3890000e+03\n",
            " 5.5900000e+03 3.5046800e+05 3.9234000e+04 2.4266000e+04 9.9420000e+03\n",
            " 1.6396000e+04 1.0392000e+04 3.6061000e+04 3.6014000e+04 1.2444000e+04\n",
            " 1.7770000e+03 1.9307000e+04 8.6730000e+03 5.9092000e+04 6.6900000e+02\n",
            " 4.4765000e+04 1.7680000e+03 5.2069800e+05 3.5021000e+04 1.1000000e+03\n",
            " 9.8540000e+03 1.0350000e+03 4.7340000e+03 1.8607900e+05 4.3510000e+03\n",
            " 1.1980000e+03 8.5600000e+03 2.3594000e+04 1.8201100e+05 3.6950000e+03\n",
            " 4.9890000e+03 2.9356000e+04 6.0000000e+04 3.4480000e+03 7.3653000e+04\n",
            " 1.8425000e+04 1.1071424e+07 3.1190000e+03 2.1670000e+03 2.5894400e+05\n",
            " 2.7504000e+04 6.7349000e+04 1.0830000e+04 2.9390800e+05 5.2400000e+03\n",
            " 2.6650000e+03 1.5750000e+03 1.2311000e+04 2.8428000e+04 5.0250000e+03\n",
            " 1.4133100e+05 4.5370000e+03 2.8000000e+04 3.2500000e+03 1.3893000e+04\n",
            " 2.8544000e+04 2.7207000e+04 2.4142000e+04 1.9019000e+04 9.1733000e+04\n",
            " 8.4775000e+04 1.4632000e+04 1.0920000e+04 6.0440000e+03 9.0041400e+05\n",
            " 1.1000000e+04 2.8990000e+03 8.8930000e+03 6.1200000e+03 7.5104000e+04\n",
            " 2.8850000e+03 5.7060000e+03 6.3180000e+03 5.6859000e+04 4.4776380e+06\n",
            " 1.5560000e+03 7.5290000e+03 1.3970000e+03 2.9869000e+04 1.6810000e+03\n",
            " 7.8568000e+04 1.2249000e+04 1.9014000e+04 2.8940000e+03 1.4924000e+04\n",
            " 8.1060000e+03 6.8110000e+03 5.2208100e+05 1.8500000e+03 9.8440000e+03\n",
            " 1.0942000e+04 2.7704000e+04 1.0800000e+03 1.3484700e+05 4.1800000e+05\n",
            " 3.5700000e+03 6.8130000e+03 3.6280000e+04 5.4954300e+05 3.2997000e+04\n",
            " 6.7760000e+03 6.3035000e+04 5.4415000e+04 1.7179000e+05 9.0353000e+04\n",
            " 1.2695700e+05 5.0253000e+04 1.8340000e+03 1.8230000e+03 1.0519800e+05\n",
            " 1.0950000e+03 2.3677000e+04 4.4280000e+03 1.0672000e+04 6.6486000e+04\n",
            " 1.3862200e+05 1.8800000e+04 1.3429000e+04 1.5073000e+04 1.0943000e+04\n",
            " 3.0990000e+03 2.4432030e+06 2.9940000e+03 1.9972000e+04 1.4130000e+03\n",
            " 9.0890000e+03 3.3560000e+03 1.6597000e+04 5.1060000e+03 3.4410000e+03\n",
            " 1.5020000e+03 7.1360000e+03 2.5650000e+03 2.1767000e+04 4.6510000e+03\n",
            " 9.6266000e+04 1.7850000e+03 1.9375000e+05 1.0958400e+05 2.3750000e+03\n",
            " 2.2050000e+03 1.1470000e+03 2.5240000e+03 1.5019000e+04 6.4457000e+04\n",
            " 1.2570700e+05 2.0674600e+05 2.0610000e+03 1.8600000e+04 3.0650000e+03\n",
            " 1.0860000e+05 3.7470000e+03 9.5920000e+03 3.0000000e+05 2.1920400e+05\n",
            " 2.5960000e+03 2.7271400e+05 7.3240000e+03 1.1742000e+04 3.2590000e+03\n",
            " 2.1950000e+03 2.2581600e+05 3.2870000e+03 1.3914330e+06 4.1258000e+04\n",
            " 6.8190000e+03 3.3700000e+03 2.1560000e+03 7.9120000e+03 3.4620000e+03\n",
            " 2.0830000e+03]\n",
            "countrycode\n",
            "<class 'numpy.float64'>\n",
            "84\n",
            "[ 6. 62. 15. 53. 19. 29. 31. 52. 59. 35. 80.  3. 55. 71. 16. 58. 69. 25.\n",
            " 17. 60. 63. 32. 21. 38.  2.  9. 24. 65. 33.  4. 23. 45. 81. 28. 40.  0.\n",
            " 72. 70. 56.  5. 26. 36. 46. 13. 10. 83.  7. 37. 12. 73. 48. 34. 41. 64.\n",
            " 30. 74. 14. 77. 61. 50.  8. 42. 68. 54. 44. 57. 47.  1. 82. 66. 76. 18.\n",
            " 67. 43. 75. 79. 39. 11. 49. 22. 78. 20. 27. 51.]\n",
            "continentcode\n",
            "<class 'str'>\n",
            "5\n",
            "['AS' 'SA' 'EU' 'OC' 'AF']\n",
            "latitude\n",
            "<class 'numpy.float64'>\n",
            "1559\n",
            "[22.3555      6.5309     35.8853     ... 15.954      16.5857\n",
            " 39.87523711]\n",
            "longitude\n",
            "<class 'numpy.float64'>\n",
            "1558\n",
            "[ 91.8205 125.4616 111.5837 ... 120.8211 120.9766 120.4201]\n",
            "Timestamp\n",
            "<class 'numpy.float64'>\n",
            "1351\n",
            "[1.45029953 1.45227508 1.43993614 ... 1.47768714 1.47768747 1.47768812]\n"
          ]
        }
      ]
    },
    {
      "cell_type": "markdown",
      "source": [
        "#Data processing in ML Pipeline\n",
        "Using One Hot Encoder for categorical data and StandardScalar for numerical data.\n",
        "\n",
        "\n",
        "Grouping them as one preprocessor step/component."
      ],
      "metadata": {
        "id": "CWtccLsTlI-8"
      }
    },
    {
      "cell_type": "code",
      "source": [
        "from sklearn.preprocessing import OneHotEncoder, StandardScaler\n",
        "\n",
        "categorical_preprocessor = OneHotEncoder(handle_unknown=\"ignore\")\n",
        "numerical_preprocessor = StandardScaler()"
      ],
      "metadata": {
        "id": "-7ZJAdhOB7Wa"
      },
      "execution_count": null,
      "outputs": []
    },
    {
      "cell_type": "code",
      "source": [
        "from sklearn.compose import ColumnTransformer\n",
        "\n",
        "preprocessor = ColumnTransformer(\n",
        "    [\n",
        "        (\"one-hot-encoder\", categorical_preprocessor, categorical_columns),\n",
        "        (\"standard_scaler\", numerical_preprocessor, numerical_columns),\n",
        "    ]\n",
        ")"
      ],
      "metadata": {
        "id": "T4pnscaOCDKq"
      },
      "execution_count": null,
      "outputs": []
    },
    {
      "cell_type": "markdown",
      "source": [
        "splitting train and test data"
      ],
      "metadata": {
        "id": "OVRcmAI3l1lo"
      }
    },
    {
      "cell_type": "code",
      "source": [
        "from sklearn.model_selection import train_test_split\n",
        "\n",
        "data_train, data_test = train_test_split(\n",
        "    data, random_state=42\n",
        ")\n",
        "data_train=pd.DataFrame(data_train)\n",
        "data_test=pd.DataFrame(data_test)"
      ],
      "metadata": {
        "id": "F3_G6WZ4CQzJ"
      },
      "execution_count": null,
      "outputs": []
    },
    {
      "cell_type": "code",
      "source": [
        "print(data_train.head())\n",
        "print(data_test.head())"
      ],
      "metadata": {
        "colab": {
          "base_uri": "https://localhost:8080/"
        },
        "id": "Xap4AW4RMQyh",
        "outputId": "0a2bc799-fe19-4e10-8416-dbf8bd16a7f3"
      },
      "execution_count": null,
      "outputs": [
        {
          "output_type": "stream",
          "name": "stdout",
          "text": [
            "     landslide_type           trigger  fatalities  injuries  \\\n",
            "6282       Rockfall  Tropical_Cyclone         0.0       0.0   \n",
            "6133      Landslide   Continuous_Rain         5.0       0.0   \n",
            "6164      Landslide   Continuous_Rain         0.0       0.0   \n",
            "9523      Landslide          Downpour         3.0       4.0   \n",
            "6267      Landslide          Downpour         0.0       0.0   \n",
            "\n",
            "     location_description  location_accuracy landslide_size  distance  \\\n",
            "6282           Above_road               25.0         Medium  12.64492   \n",
            "6133              Unknown               50.0          Small   1.45285   \n",
            "6164           Above_road                5.0          Small   0.61653   \n",
            "9523           Urban_area                1.0         Medium   1.51145   \n",
            "6267           Above_road               25.0          Small  11.43282   \n",
            "\n",
            "      population  countrycode continentcode  latitude  longitude  Timestamp  \n",
            "6282    798634.0         62.0            AS   10.4203   123.8418   1.414443  \n",
            "6133         0.0         15.0            AS   26.6537   105.7688   1.408838  \n",
            "6164         0.0         32.0            AS   -7.2643   108.2036   1.408838  \n",
            "9523   1391433.0         51.0            AF  -18.9191    47.5505   1.477073  \n",
            "6267      9652.0         25.0            EU   56.7331    -5.2213   1.414418  \n",
            "     landslide_type          trigger  fatalities  injuries  \\\n",
            "8113       Mudslide         Downpour         1.0       0.0   \n",
            "7146       Mudslide          Unknown        10.0       0.0   \n",
            "8596      Landslide          Monsoon        17.0       0.0   \n",
            "6592      Landslide  Continuous_Rain         0.0       0.0   \n",
            "6562      Landslide         Downpour         3.0       0.0   \n",
            "\n",
            "     location_description  location_accuracy landslide_size  distance  \\\n",
            "8113        Natural_slope                5.0         Medium   3.88766   \n",
            "7146        Natural_slope                5.0         Medium  17.45751   \n",
            "8596              Unknown             1000.0          Large  10.94170   \n",
            "6592           Below_road               10.0          Small  39.95550   \n",
            "6562              Unknown               50.0         Medium   5.24156   \n",
            "\n",
            "      population  countrycode continentcode  latitude  longitude  Timestamp  \n",
            "8113    899094.0         35.0            AS   26.1961    91.7825   1.467730  \n",
            "7146     18122.0         72.0            AS   38.5464    69.3203   1.436884  \n",
            "8596    117303.0         53.0            AS   22.1334    96.4669   1.467986  \n",
            "6592     77366.0         23.0            OC  -18.0890   178.0680   1.420500  \n",
            "6562     47587.0         46.0            AS    6.9438    81.0684   1.419635  \n"
          ]
        }
      ]
    },
    {
      "cell_type": "markdown",
      "source": [
        "splitting X and Y->\n",
        "\n",
        " X input data fed containing features of calamity ,\n",
        " Y magnitude/category of calamity"
      ],
      "metadata": {
        "id": "yXn3nktOl5Z2"
      }
    },
    {
      "cell_type": "code",
      "source": [
        "X_train=data_train.drop('landslide_size',axis=1)\n",
        "Y_train=data_train.landslide_size\n",
        "X_test=data_test.drop('landslide_size',axis=1)\n",
        "Y_test=data_test.landslide_size"
      ],
      "metadata": {
        "id": "ZuA9ONjYQKKJ"
      },
      "execution_count": null,
      "outputs": []
    },
    {
      "cell_type": "markdown",
      "source": [
        "#Building pipelines using SKLearn"
      ],
      "metadata": {
        "id": "CEQbDWEFmMMb"
      }
    },
    {
      "cell_type": "markdown",
      "source": [
        "Logistic Regression Model used in pipeline"
      ],
      "metadata": {
        "id": "RAkRy5mGmRAr"
      }
    },
    {
      "cell_type": "code",
      "source": [
        "from sklearn.linear_model import LogisticRegression\n",
        "from sklearn.pipeline import make_pipeline\n",
        "\n",
        "model_log = make_pipeline(preprocessor, LogisticRegression(max_iter=500))\n",
        "model_log"
      ],
      "metadata": {
        "colab": {
          "base_uri": "https://localhost:8080/",
          "height": 192
        },
        "id": "dEadQIj4CLoF",
        "outputId": "57a54eaf-9483-49fe-b01d-ce991a23b8b9"
      },
      "execution_count": null,
      "outputs": [
        {
          "output_type": "execute_result",
          "data": {
            "text/plain": [
              "Pipeline(steps=[('columntransformer',\n",
              "                 ColumnTransformer(transformers=[('one-hot-encoder',\n",
              "                                                  OneHotEncoder(handle_unknown='ignore'),\n",
              "                                                  ['landslide_type', 'trigger',\n",
              "                                                   'location_description',\n",
              "                                                   'continentcode']),\n",
              "                                                 ('standard_scaler',\n",
              "                                                  StandardScaler(),\n",
              "                                                  ['fatalities', 'injuries',\n",
              "                                                   'location_accuracy',\n",
              "                                                   'distance', 'population',\n",
              "                                                   'longitude', 'latitude',\n",
              "                                                   'countrycode'])])),\n",
              "                ('logisticregression', LogisticRegression(max_iter=500))])"
            ],
            "text/html": [
              "<style>#sk-container-id-15 {color: black;background-color: white;}#sk-container-id-15 pre{padding: 0;}#sk-container-id-15 div.sk-toggleable {background-color: white;}#sk-container-id-15 label.sk-toggleable__label {cursor: pointer;display: block;width: 100%;margin-bottom: 0;padding: 0.3em;box-sizing: border-box;text-align: center;}#sk-container-id-15 label.sk-toggleable__label-arrow:before {content: \"▸\";float: left;margin-right: 0.25em;color: #696969;}#sk-container-id-15 label.sk-toggleable__label-arrow:hover:before {color: black;}#sk-container-id-15 div.sk-estimator:hover label.sk-toggleable__label-arrow:before {color: black;}#sk-container-id-15 div.sk-toggleable__content {max-height: 0;max-width: 0;overflow: hidden;text-align: left;background-color: #f0f8ff;}#sk-container-id-15 div.sk-toggleable__content pre {margin: 0.2em;color: black;border-radius: 0.25em;background-color: #f0f8ff;}#sk-container-id-15 input.sk-toggleable__control:checked~div.sk-toggleable__content {max-height: 200px;max-width: 100%;overflow: auto;}#sk-container-id-15 input.sk-toggleable__control:checked~label.sk-toggleable__label-arrow:before {content: \"▾\";}#sk-container-id-15 div.sk-estimator input.sk-toggleable__control:checked~label.sk-toggleable__label {background-color: #d4ebff;}#sk-container-id-15 div.sk-label input.sk-toggleable__control:checked~label.sk-toggleable__label {background-color: #d4ebff;}#sk-container-id-15 input.sk-hidden--visually {border: 0;clip: rect(1px 1px 1px 1px);clip: rect(1px, 1px, 1px, 1px);height: 1px;margin: -1px;overflow: hidden;padding: 0;position: absolute;width: 1px;}#sk-container-id-15 div.sk-estimator {font-family: monospace;background-color: #f0f8ff;border: 1px dotted black;border-radius: 0.25em;box-sizing: border-box;margin-bottom: 0.5em;}#sk-container-id-15 div.sk-estimator:hover {background-color: #d4ebff;}#sk-container-id-15 div.sk-parallel-item::after {content: \"\";width: 100%;border-bottom: 1px solid gray;flex-grow: 1;}#sk-container-id-15 div.sk-label:hover label.sk-toggleable__label {background-color: #d4ebff;}#sk-container-id-15 div.sk-serial::before {content: \"\";position: absolute;border-left: 1px solid gray;box-sizing: border-box;top: 0;bottom: 0;left: 50%;z-index: 0;}#sk-container-id-15 div.sk-serial {display: flex;flex-direction: column;align-items: center;background-color: white;padding-right: 0.2em;padding-left: 0.2em;position: relative;}#sk-container-id-15 div.sk-item {position: relative;z-index: 1;}#sk-container-id-15 div.sk-parallel {display: flex;align-items: stretch;justify-content: center;background-color: white;position: relative;}#sk-container-id-15 div.sk-item::before, #sk-container-id-15 div.sk-parallel-item::before {content: \"\";position: absolute;border-left: 1px solid gray;box-sizing: border-box;top: 0;bottom: 0;left: 50%;z-index: -1;}#sk-container-id-15 div.sk-parallel-item {display: flex;flex-direction: column;z-index: 1;position: relative;background-color: white;}#sk-container-id-15 div.sk-parallel-item:first-child::after {align-self: flex-end;width: 50%;}#sk-container-id-15 div.sk-parallel-item:last-child::after {align-self: flex-start;width: 50%;}#sk-container-id-15 div.sk-parallel-item:only-child::after {width: 0;}#sk-container-id-15 div.sk-dashed-wrapped {border: 1px dashed gray;margin: 0 0.4em 0.5em 0.4em;box-sizing: border-box;padding-bottom: 0.4em;background-color: white;}#sk-container-id-15 div.sk-label label {font-family: monospace;font-weight: bold;display: inline-block;line-height: 1.2em;}#sk-container-id-15 div.sk-label-container {text-align: center;}#sk-container-id-15 div.sk-container {/* jupyter's `normalize.less` sets `[hidden] { display: none; }` but bootstrap.min.css set `[hidden] { display: none !important; }` so we also need the `!important` here to be able to override the default hidden behavior on the sphinx rendered scikit-learn.org. See: https://github.com/scikit-learn/scikit-learn/issues/21755 */display: inline-block !important;position: relative;}#sk-container-id-15 div.sk-text-repr-fallback {display: none;}</style><div id=\"sk-container-id-15\" class=\"sk-top-container\"><div class=\"sk-text-repr-fallback\"><pre>Pipeline(steps=[(&#x27;columntransformer&#x27;,\n",
              "                 ColumnTransformer(transformers=[(&#x27;one-hot-encoder&#x27;,\n",
              "                                                  OneHotEncoder(handle_unknown=&#x27;ignore&#x27;),\n",
              "                                                  [&#x27;landslide_type&#x27;, &#x27;trigger&#x27;,\n",
              "                                                   &#x27;location_description&#x27;,\n",
              "                                                   &#x27;continentcode&#x27;]),\n",
              "                                                 (&#x27;standard_scaler&#x27;,\n",
              "                                                  StandardScaler(),\n",
              "                                                  [&#x27;fatalities&#x27;, &#x27;injuries&#x27;,\n",
              "                                                   &#x27;location_accuracy&#x27;,\n",
              "                                                   &#x27;distance&#x27;, &#x27;population&#x27;,\n",
              "                                                   &#x27;longitude&#x27;, &#x27;latitude&#x27;,\n",
              "                                                   &#x27;countrycode&#x27;])])),\n",
              "                (&#x27;logisticregression&#x27;, LogisticRegression(max_iter=500))])</pre><b>In a Jupyter environment, please rerun this cell to show the HTML representation or trust the notebook. <br />On GitHub, the HTML representation is unable to render, please try loading this page with nbviewer.org.</b></div><div class=\"sk-container\" hidden><div class=\"sk-item sk-dashed-wrapped\"><div class=\"sk-label-container\"><div class=\"sk-label sk-toggleable\"><input class=\"sk-toggleable__control sk-hidden--visually\" id=\"sk-estimator-id-99\" type=\"checkbox\" ><label for=\"sk-estimator-id-99\" class=\"sk-toggleable__label sk-toggleable__label-arrow\">Pipeline</label><div class=\"sk-toggleable__content\"><pre>Pipeline(steps=[(&#x27;columntransformer&#x27;,\n",
              "                 ColumnTransformer(transformers=[(&#x27;one-hot-encoder&#x27;,\n",
              "                                                  OneHotEncoder(handle_unknown=&#x27;ignore&#x27;),\n",
              "                                                  [&#x27;landslide_type&#x27;, &#x27;trigger&#x27;,\n",
              "                                                   &#x27;location_description&#x27;,\n",
              "                                                   &#x27;continentcode&#x27;]),\n",
              "                                                 (&#x27;standard_scaler&#x27;,\n",
              "                                                  StandardScaler(),\n",
              "                                                  [&#x27;fatalities&#x27;, &#x27;injuries&#x27;,\n",
              "                                                   &#x27;location_accuracy&#x27;,\n",
              "                                                   &#x27;distance&#x27;, &#x27;population&#x27;,\n",
              "                                                   &#x27;longitude&#x27;, &#x27;latitude&#x27;,\n",
              "                                                   &#x27;countrycode&#x27;])])),\n",
              "                (&#x27;logisticregression&#x27;, LogisticRegression(max_iter=500))])</pre></div></div></div><div class=\"sk-serial\"><div class=\"sk-item sk-dashed-wrapped\"><div class=\"sk-label-container\"><div class=\"sk-label sk-toggleable\"><input class=\"sk-toggleable__control sk-hidden--visually\" id=\"sk-estimator-id-100\" type=\"checkbox\" ><label for=\"sk-estimator-id-100\" class=\"sk-toggleable__label sk-toggleable__label-arrow\">columntransformer: ColumnTransformer</label><div class=\"sk-toggleable__content\"><pre>ColumnTransformer(transformers=[(&#x27;one-hot-encoder&#x27;,\n",
              "                                 OneHotEncoder(handle_unknown=&#x27;ignore&#x27;),\n",
              "                                 [&#x27;landslide_type&#x27;, &#x27;trigger&#x27;,\n",
              "                                  &#x27;location_description&#x27;, &#x27;continentcode&#x27;]),\n",
              "                                (&#x27;standard_scaler&#x27;, StandardScaler(),\n",
              "                                 [&#x27;fatalities&#x27;, &#x27;injuries&#x27;, &#x27;location_accuracy&#x27;,\n",
              "                                  &#x27;distance&#x27;, &#x27;population&#x27;, &#x27;longitude&#x27;,\n",
              "                                  &#x27;latitude&#x27;, &#x27;countrycode&#x27;])])</pre></div></div></div><div class=\"sk-parallel\"><div class=\"sk-parallel-item\"><div class=\"sk-item\"><div class=\"sk-label-container\"><div class=\"sk-label sk-toggleable\"><input class=\"sk-toggleable__control sk-hidden--visually\" id=\"sk-estimator-id-101\" type=\"checkbox\" ><label for=\"sk-estimator-id-101\" class=\"sk-toggleable__label sk-toggleable__label-arrow\">one-hot-encoder</label><div class=\"sk-toggleable__content\"><pre>[&#x27;landslide_type&#x27;, &#x27;trigger&#x27;, &#x27;location_description&#x27;, &#x27;continentcode&#x27;]</pre></div></div></div><div class=\"sk-serial\"><div class=\"sk-item\"><div class=\"sk-estimator sk-toggleable\"><input class=\"sk-toggleable__control sk-hidden--visually\" id=\"sk-estimator-id-102\" type=\"checkbox\" ><label for=\"sk-estimator-id-102\" class=\"sk-toggleable__label sk-toggleable__label-arrow\">OneHotEncoder</label><div class=\"sk-toggleable__content\"><pre>OneHotEncoder(handle_unknown=&#x27;ignore&#x27;)</pre></div></div></div></div></div></div><div class=\"sk-parallel-item\"><div class=\"sk-item\"><div class=\"sk-label-container\"><div class=\"sk-label sk-toggleable\"><input class=\"sk-toggleable__control sk-hidden--visually\" id=\"sk-estimator-id-103\" type=\"checkbox\" ><label for=\"sk-estimator-id-103\" class=\"sk-toggleable__label sk-toggleable__label-arrow\">standard_scaler</label><div class=\"sk-toggleable__content\"><pre>[&#x27;fatalities&#x27;, &#x27;injuries&#x27;, &#x27;location_accuracy&#x27;, &#x27;distance&#x27;, &#x27;population&#x27;, &#x27;longitude&#x27;, &#x27;latitude&#x27;, &#x27;countrycode&#x27;]</pre></div></div></div><div class=\"sk-serial\"><div class=\"sk-item\"><div class=\"sk-estimator sk-toggleable\"><input class=\"sk-toggleable__control sk-hidden--visually\" id=\"sk-estimator-id-104\" type=\"checkbox\" ><label for=\"sk-estimator-id-104\" class=\"sk-toggleable__label sk-toggleable__label-arrow\">StandardScaler</label><div class=\"sk-toggleable__content\"><pre>StandardScaler()</pre></div></div></div></div></div></div></div></div><div class=\"sk-item\"><div class=\"sk-estimator sk-toggleable\"><input class=\"sk-toggleable__control sk-hidden--visually\" id=\"sk-estimator-id-105\" type=\"checkbox\" ><label for=\"sk-estimator-id-105\" class=\"sk-toggleable__label sk-toggleable__label-arrow\">LogisticRegression</label><div class=\"sk-toggleable__content\"><pre>LogisticRegression(max_iter=500)</pre></div></div></div></div></div></div></div>"
            ]
          },
          "metadata": {},
          "execution_count": 317
        }
      ]
    },
    {
      "cell_type": "markdown",
      "source": [
        "training the pipeline with training data"
      ],
      "metadata": {
        "id": "Of40BQTMmXwe"
      }
    },
    {
      "cell_type": "code",
      "source": [
        "model_log.fit(X_train,Y_train)"
      ],
      "metadata": {
        "colab": {
          "base_uri": "https://localhost:8080/",
          "height": 192
        },
        "id": "ktyG1Li6CU6Y",
        "outputId": "9a022387-d3dc-430a-ac45-5ffbdfb3652a"
      },
      "execution_count": null,
      "outputs": [
        {
          "output_type": "execute_result",
          "data": {
            "text/plain": [
              "Pipeline(steps=[('columntransformer',\n",
              "                 ColumnTransformer(transformers=[('one-hot-encoder',\n",
              "                                                  OneHotEncoder(handle_unknown='ignore'),\n",
              "                                                  ['landslide_type', 'trigger',\n",
              "                                                   'location_description',\n",
              "                                                   'continentcode']),\n",
              "                                                 ('standard_scaler',\n",
              "                                                  StandardScaler(),\n",
              "                                                  ['fatalities', 'injuries',\n",
              "                                                   'location_accuracy',\n",
              "                                                   'distance', 'population',\n",
              "                                                   'longitude', 'latitude',\n",
              "                                                   'countrycode'])])),\n",
              "                ('logisticregression', LogisticRegression(max_iter=500))])"
            ],
            "text/html": [
              "<style>#sk-container-id-16 {color: black;background-color: white;}#sk-container-id-16 pre{padding: 0;}#sk-container-id-16 div.sk-toggleable {background-color: white;}#sk-container-id-16 label.sk-toggleable__label {cursor: pointer;display: block;width: 100%;margin-bottom: 0;padding: 0.3em;box-sizing: border-box;text-align: center;}#sk-container-id-16 label.sk-toggleable__label-arrow:before {content: \"▸\";float: left;margin-right: 0.25em;color: #696969;}#sk-container-id-16 label.sk-toggleable__label-arrow:hover:before {color: black;}#sk-container-id-16 div.sk-estimator:hover label.sk-toggleable__label-arrow:before {color: black;}#sk-container-id-16 div.sk-toggleable__content {max-height: 0;max-width: 0;overflow: hidden;text-align: left;background-color: #f0f8ff;}#sk-container-id-16 div.sk-toggleable__content pre {margin: 0.2em;color: black;border-radius: 0.25em;background-color: #f0f8ff;}#sk-container-id-16 input.sk-toggleable__control:checked~div.sk-toggleable__content {max-height: 200px;max-width: 100%;overflow: auto;}#sk-container-id-16 input.sk-toggleable__control:checked~label.sk-toggleable__label-arrow:before {content: \"▾\";}#sk-container-id-16 div.sk-estimator input.sk-toggleable__control:checked~label.sk-toggleable__label {background-color: #d4ebff;}#sk-container-id-16 div.sk-label input.sk-toggleable__control:checked~label.sk-toggleable__label {background-color: #d4ebff;}#sk-container-id-16 input.sk-hidden--visually {border: 0;clip: rect(1px 1px 1px 1px);clip: rect(1px, 1px, 1px, 1px);height: 1px;margin: -1px;overflow: hidden;padding: 0;position: absolute;width: 1px;}#sk-container-id-16 div.sk-estimator {font-family: monospace;background-color: #f0f8ff;border: 1px dotted black;border-radius: 0.25em;box-sizing: border-box;margin-bottom: 0.5em;}#sk-container-id-16 div.sk-estimator:hover {background-color: #d4ebff;}#sk-container-id-16 div.sk-parallel-item::after {content: \"\";width: 100%;border-bottom: 1px solid gray;flex-grow: 1;}#sk-container-id-16 div.sk-label:hover label.sk-toggleable__label {background-color: #d4ebff;}#sk-container-id-16 div.sk-serial::before {content: \"\";position: absolute;border-left: 1px solid gray;box-sizing: border-box;top: 0;bottom: 0;left: 50%;z-index: 0;}#sk-container-id-16 div.sk-serial {display: flex;flex-direction: column;align-items: center;background-color: white;padding-right: 0.2em;padding-left: 0.2em;position: relative;}#sk-container-id-16 div.sk-item {position: relative;z-index: 1;}#sk-container-id-16 div.sk-parallel {display: flex;align-items: stretch;justify-content: center;background-color: white;position: relative;}#sk-container-id-16 div.sk-item::before, #sk-container-id-16 div.sk-parallel-item::before {content: \"\";position: absolute;border-left: 1px solid gray;box-sizing: border-box;top: 0;bottom: 0;left: 50%;z-index: -1;}#sk-container-id-16 div.sk-parallel-item {display: flex;flex-direction: column;z-index: 1;position: relative;background-color: white;}#sk-container-id-16 div.sk-parallel-item:first-child::after {align-self: flex-end;width: 50%;}#sk-container-id-16 div.sk-parallel-item:last-child::after {align-self: flex-start;width: 50%;}#sk-container-id-16 div.sk-parallel-item:only-child::after {width: 0;}#sk-container-id-16 div.sk-dashed-wrapped {border: 1px dashed gray;margin: 0 0.4em 0.5em 0.4em;box-sizing: border-box;padding-bottom: 0.4em;background-color: white;}#sk-container-id-16 div.sk-label label {font-family: monospace;font-weight: bold;display: inline-block;line-height: 1.2em;}#sk-container-id-16 div.sk-label-container {text-align: center;}#sk-container-id-16 div.sk-container {/* jupyter's `normalize.less` sets `[hidden] { display: none; }` but bootstrap.min.css set `[hidden] { display: none !important; }` so we also need the `!important` here to be able to override the default hidden behavior on the sphinx rendered scikit-learn.org. See: https://github.com/scikit-learn/scikit-learn/issues/21755 */display: inline-block !important;position: relative;}#sk-container-id-16 div.sk-text-repr-fallback {display: none;}</style><div id=\"sk-container-id-16\" class=\"sk-top-container\"><div class=\"sk-text-repr-fallback\"><pre>Pipeline(steps=[(&#x27;columntransformer&#x27;,\n",
              "                 ColumnTransformer(transformers=[(&#x27;one-hot-encoder&#x27;,\n",
              "                                                  OneHotEncoder(handle_unknown=&#x27;ignore&#x27;),\n",
              "                                                  [&#x27;landslide_type&#x27;, &#x27;trigger&#x27;,\n",
              "                                                   &#x27;location_description&#x27;,\n",
              "                                                   &#x27;continentcode&#x27;]),\n",
              "                                                 (&#x27;standard_scaler&#x27;,\n",
              "                                                  StandardScaler(),\n",
              "                                                  [&#x27;fatalities&#x27;, &#x27;injuries&#x27;,\n",
              "                                                   &#x27;location_accuracy&#x27;,\n",
              "                                                   &#x27;distance&#x27;, &#x27;population&#x27;,\n",
              "                                                   &#x27;longitude&#x27;, &#x27;latitude&#x27;,\n",
              "                                                   &#x27;countrycode&#x27;])])),\n",
              "                (&#x27;logisticregression&#x27;, LogisticRegression(max_iter=500))])</pre><b>In a Jupyter environment, please rerun this cell to show the HTML representation or trust the notebook. <br />On GitHub, the HTML representation is unable to render, please try loading this page with nbviewer.org.</b></div><div class=\"sk-container\" hidden><div class=\"sk-item sk-dashed-wrapped\"><div class=\"sk-label-container\"><div class=\"sk-label sk-toggleable\"><input class=\"sk-toggleable__control sk-hidden--visually\" id=\"sk-estimator-id-106\" type=\"checkbox\" ><label for=\"sk-estimator-id-106\" class=\"sk-toggleable__label sk-toggleable__label-arrow\">Pipeline</label><div class=\"sk-toggleable__content\"><pre>Pipeline(steps=[(&#x27;columntransformer&#x27;,\n",
              "                 ColumnTransformer(transformers=[(&#x27;one-hot-encoder&#x27;,\n",
              "                                                  OneHotEncoder(handle_unknown=&#x27;ignore&#x27;),\n",
              "                                                  [&#x27;landslide_type&#x27;, &#x27;trigger&#x27;,\n",
              "                                                   &#x27;location_description&#x27;,\n",
              "                                                   &#x27;continentcode&#x27;]),\n",
              "                                                 (&#x27;standard_scaler&#x27;,\n",
              "                                                  StandardScaler(),\n",
              "                                                  [&#x27;fatalities&#x27;, &#x27;injuries&#x27;,\n",
              "                                                   &#x27;location_accuracy&#x27;,\n",
              "                                                   &#x27;distance&#x27;, &#x27;population&#x27;,\n",
              "                                                   &#x27;longitude&#x27;, &#x27;latitude&#x27;,\n",
              "                                                   &#x27;countrycode&#x27;])])),\n",
              "                (&#x27;logisticregression&#x27;, LogisticRegression(max_iter=500))])</pre></div></div></div><div class=\"sk-serial\"><div class=\"sk-item sk-dashed-wrapped\"><div class=\"sk-label-container\"><div class=\"sk-label sk-toggleable\"><input class=\"sk-toggleable__control sk-hidden--visually\" id=\"sk-estimator-id-107\" type=\"checkbox\" ><label for=\"sk-estimator-id-107\" class=\"sk-toggleable__label sk-toggleable__label-arrow\">columntransformer: ColumnTransformer</label><div class=\"sk-toggleable__content\"><pre>ColumnTransformer(transformers=[(&#x27;one-hot-encoder&#x27;,\n",
              "                                 OneHotEncoder(handle_unknown=&#x27;ignore&#x27;),\n",
              "                                 [&#x27;landslide_type&#x27;, &#x27;trigger&#x27;,\n",
              "                                  &#x27;location_description&#x27;, &#x27;continentcode&#x27;]),\n",
              "                                (&#x27;standard_scaler&#x27;, StandardScaler(),\n",
              "                                 [&#x27;fatalities&#x27;, &#x27;injuries&#x27;, &#x27;location_accuracy&#x27;,\n",
              "                                  &#x27;distance&#x27;, &#x27;population&#x27;, &#x27;longitude&#x27;,\n",
              "                                  &#x27;latitude&#x27;, &#x27;countrycode&#x27;])])</pre></div></div></div><div class=\"sk-parallel\"><div class=\"sk-parallel-item\"><div class=\"sk-item\"><div class=\"sk-label-container\"><div class=\"sk-label sk-toggleable\"><input class=\"sk-toggleable__control sk-hidden--visually\" id=\"sk-estimator-id-108\" type=\"checkbox\" ><label for=\"sk-estimator-id-108\" class=\"sk-toggleable__label sk-toggleable__label-arrow\">one-hot-encoder</label><div class=\"sk-toggleable__content\"><pre>[&#x27;landslide_type&#x27;, &#x27;trigger&#x27;, &#x27;location_description&#x27;, &#x27;continentcode&#x27;]</pre></div></div></div><div class=\"sk-serial\"><div class=\"sk-item\"><div class=\"sk-estimator sk-toggleable\"><input class=\"sk-toggleable__control sk-hidden--visually\" id=\"sk-estimator-id-109\" type=\"checkbox\" ><label for=\"sk-estimator-id-109\" class=\"sk-toggleable__label sk-toggleable__label-arrow\">OneHotEncoder</label><div class=\"sk-toggleable__content\"><pre>OneHotEncoder(handle_unknown=&#x27;ignore&#x27;)</pre></div></div></div></div></div></div><div class=\"sk-parallel-item\"><div class=\"sk-item\"><div class=\"sk-label-container\"><div class=\"sk-label sk-toggleable\"><input class=\"sk-toggleable__control sk-hidden--visually\" id=\"sk-estimator-id-110\" type=\"checkbox\" ><label for=\"sk-estimator-id-110\" class=\"sk-toggleable__label sk-toggleable__label-arrow\">standard_scaler</label><div class=\"sk-toggleable__content\"><pre>[&#x27;fatalities&#x27;, &#x27;injuries&#x27;, &#x27;location_accuracy&#x27;, &#x27;distance&#x27;, &#x27;population&#x27;, &#x27;longitude&#x27;, &#x27;latitude&#x27;, &#x27;countrycode&#x27;]</pre></div></div></div><div class=\"sk-serial\"><div class=\"sk-item\"><div class=\"sk-estimator sk-toggleable\"><input class=\"sk-toggleable__control sk-hidden--visually\" id=\"sk-estimator-id-111\" type=\"checkbox\" ><label for=\"sk-estimator-id-111\" class=\"sk-toggleable__label sk-toggleable__label-arrow\">StandardScaler</label><div class=\"sk-toggleable__content\"><pre>StandardScaler()</pre></div></div></div></div></div></div></div></div><div class=\"sk-item\"><div class=\"sk-estimator sk-toggleable\"><input class=\"sk-toggleable__control sk-hidden--visually\" id=\"sk-estimator-id-112\" type=\"checkbox\" ><label for=\"sk-estimator-id-112\" class=\"sk-toggleable__label sk-toggleable__label-arrow\">LogisticRegression</label><div class=\"sk-toggleable__content\"><pre>LogisticRegression(max_iter=500)</pre></div></div></div></div></div></div></div>"
            ]
          },
          "metadata": {},
          "execution_count": 318
        }
      ]
    },
    {
      "cell_type": "markdown",
      "source": [
        "Prediction"
      ],
      "metadata": {
        "id": "XF-UaOMlmcsD"
      }
    },
    {
      "cell_type": "code",
      "source": [
        "pred_log=model_log.predict(data_test.drop('landslide_size',axis=1))\n"
      ],
      "metadata": {
        "id": "0Qsx3HXTM-9J"
      },
      "execution_count": null,
      "outputs": []
    },
    {
      "cell_type": "markdown",
      "source": [
        "Accuracy of the model"
      ],
      "metadata": {
        "id": "CzNiifUAmfwP"
      }
    },
    {
      "cell_type": "code",
      "source": [
        "print(model_log.score(data_test.drop('landslide_size',axis=1), data_test.landslide_size))"
      ],
      "metadata": {
        "colab": {
          "base_uri": "https://localhost:8080/"
        },
        "id": "qOrF6qbIO93m",
        "outputId": "6ba88986-934c-49d3-bb56-45f6994654bd"
      },
      "execution_count": null,
      "outputs": [
        {
          "output_type": "stream",
          "name": "stdout",
          "text": [
            "0.6161616161616161\n"
          ]
        }
      ]
    },
    {
      "cell_type": "code",
      "source": [
        "print(pred_log)"
      ],
      "metadata": {
        "colab": {
          "base_uri": "https://localhost:8080/"
        },
        "id": "h3GVJjpTPgyn",
        "outputId": "7717e0a0-ad2a-4875-9a61-3dedce207c97"
      },
      "execution_count": null,
      "outputs": [
        {
          "output_type": "stream",
          "name": "stdout",
          "text": [
            "['Medium' 'Medium' 'Medium' 'Small' 'Medium' 'Medium' 'Medium' 'Medium'\n",
            " 'Medium' 'Medium' 'Medium' 'Medium' 'Medium' 'Medium' 'Medium' 'Medium'\n",
            " 'Medium' 'Medium' 'Medium' 'Medium' 'Medium' 'Medium' 'Medium' 'Small'\n",
            " 'Medium' 'Large' 'Medium' 'Medium' 'Medium' 'Medium' 'Medium' 'Medium'\n",
            " 'Medium' 'Medium' 'Medium' 'Medium' 'Medium' 'Medium' 'Medium' 'Medium'\n",
            " 'Medium' 'Medium' 'Medium' 'Medium' 'Medium' 'Medium' 'Medium' 'Medium'\n",
            " 'Medium' 'Medium' 'Medium' 'Medium' 'Medium' 'Small' 'Medium' 'Medium'\n",
            " 'Medium' 'Medium' 'Medium' 'Medium' 'Medium' 'Medium' 'Small' 'unknown'\n",
            " 'Medium' 'Small' 'Medium' 'Medium' 'Small' 'Medium' 'Medium' 'Medium'\n",
            " 'Medium' 'Small' 'Medium' 'Medium' 'Medium' 'Medium' 'Medium' 'Medium'\n",
            " 'Medium' 'Medium' 'Medium' 'Medium' 'Medium' 'Medium' 'Medium' 'Medium'\n",
            " 'Medium' 'Medium' 'Medium' 'Medium' 'Medium' 'Medium' 'Small' 'Medium'\n",
            " 'Medium' 'Medium' 'Medium' 'Medium' 'Medium' 'Medium' 'Medium' 'Medium'\n",
            " 'Medium' 'Medium' 'Medium' 'Medium' 'Medium' 'Medium' 'Medium' 'Small'\n",
            " 'Medium' 'Small' 'Medium' 'Medium' 'Medium' 'Medium' 'Medium' 'Medium'\n",
            " 'Medium' 'Medium' 'Medium' 'Medium' 'Medium' 'Medium' 'Medium' 'Medium'\n",
            " 'Medium' 'Medium' 'Medium' 'Medium' 'Small' 'Medium' 'Medium' 'Medium'\n",
            " 'Medium' 'Medium' 'Medium' 'Small' 'Medium' 'Medium' 'Large' 'Medium'\n",
            " 'Medium' 'Medium' 'Medium' 'Medium' 'Medium' 'Medium' 'Small' 'Medium'\n",
            " 'Medium' 'Medium' 'Medium' 'Medium' 'Medium' 'Medium' 'Medium' 'Medium'\n",
            " 'Medium' 'Medium' 'Small' 'Medium' 'Medium' 'Medium' 'Medium' 'Medium'\n",
            " 'Medium' 'Medium' 'Medium' 'Medium' 'Medium' 'Medium' 'Medium' 'Medium'\n",
            " 'Medium' 'Large' 'Medium' 'Small' 'Medium' 'Medium' 'Medium' 'Medium'\n",
            " 'Medium' 'Medium' 'Medium' 'Medium' 'Medium' 'Medium' 'Medium' 'Medium'\n",
            " 'Medium' 'Medium' 'Medium' 'Medium' 'Medium' 'Medium' 'Medium' 'Medium'\n",
            " 'Medium' 'Medium' 'Medium' 'Medium' 'Medium' 'Medium' 'Medium' 'Medium'\n",
            " 'Medium' 'Medium' 'Medium' 'Medium' 'Medium' 'Medium' 'Medium' 'Medium'\n",
            " 'Medium' 'Medium' 'Medium' 'Medium' 'Medium' 'Medium' 'Medium' 'Medium'\n",
            " 'Medium' 'Medium' 'Medium' 'Small' 'Medium' 'Medium' 'Medium' 'Medium'\n",
            " 'Medium' 'Medium' 'Medium' 'Medium' 'Medium' 'Medium' 'Medium' 'Medium'\n",
            " 'Medium' 'Medium' 'Medium' 'Medium' 'Medium' 'Medium' 'Medium' 'Medium'\n",
            " 'Medium' 'Small' 'Medium' 'Medium' 'Medium' 'Medium' 'Medium' 'Medium'\n",
            " 'Medium' 'Medium' 'Medium' 'Medium' 'Medium' 'Medium' 'Medium' 'Medium'\n",
            " 'Medium' 'Medium' 'Medium' 'Medium' 'Medium' 'Medium' 'Medium' 'Medium'\n",
            " 'Medium' 'Large' 'Medium' 'Medium' 'Medium' 'Medium' 'Medium' 'Medium'\n",
            " 'Medium' 'Medium' 'Medium' 'Medium' 'Medium' 'Medium' 'Medium' 'Medium'\n",
            " 'Medium' 'Medium' 'Medium' 'Medium' 'Medium' 'Medium' 'Medium' 'Medium'\n",
            " 'Medium' 'Medium' 'Medium' 'Medium' 'Small' 'Medium' 'Medium' 'Medium'\n",
            " 'Medium' 'Medium' 'Medium' 'Medium' 'Medium' 'Medium' 'Medium' 'Medium'\n",
            " 'Small' 'Medium' 'Medium' 'Medium' 'Medium' 'Medium' 'Medium' 'Small'\n",
            " 'Medium' 'Medium' 'Medium' 'Medium' 'Medium' 'Small' 'Medium' 'Medium'\n",
            " 'Medium' 'Medium' 'Medium' 'Medium' 'Medium' 'Medium' 'Medium' 'Medium'\n",
            " 'Medium' 'Medium' 'Medium' 'Medium' 'Medium' 'Medium' 'Medium' 'Medium'\n",
            " 'Medium' 'Medium' 'Medium' 'Medium' 'Medium' 'Medium' 'Medium' 'Medium'\n",
            " 'Medium' 'Medium' 'Medium' 'Small' 'Medium' 'Medium' 'Medium' 'Small'\n",
            " 'Medium' 'Medium' 'Medium' 'Medium' 'Medium' 'Medium' 'Medium' 'Medium'\n",
            " 'Medium' 'Medium' 'Medium' 'Medium' 'Medium' 'Medium' 'Medium' 'Medium'\n",
            " 'Medium' 'Medium' 'Medium' 'Medium' 'Medium' 'Medium' 'Medium' 'Medium'\n",
            " 'Medium' 'Medium' 'Medium' 'Medium' 'Medium' 'Medium' 'Medium' 'Medium'\n",
            " 'Small' 'Medium' 'Medium' 'Medium']\n"
          ]
        }
      ]
    },
    {
      "cell_type": "markdown",
      "source": [
        "Decision Tree Classifier used in pipeline"
      ],
      "metadata": {
        "id": "FJWAx5-BmjxP"
      }
    },
    {
      "cell_type": "code",
      "source": [
        "from sklearn.tree import DecisionTreeClassifier\n",
        "from sklearn.pipeline import make_pipeline\n",
        "dtc = DecisionTreeClassifier()\n",
        "modeldtc = make_pipeline(preprocessor, dtc)\n",
        "modeldtc"
      ],
      "metadata": {
        "colab": {
          "base_uri": "https://localhost:8080/",
          "height": 192
        },
        "outputId": "4f90a861-203e-46a5-c452-bbc8fd764306",
        "id": "RWayx33FP8n4"
      },
      "execution_count": null,
      "outputs": [
        {
          "output_type": "execute_result",
          "data": {
            "text/plain": [
              "Pipeline(steps=[('columntransformer',\n",
              "                 ColumnTransformer(transformers=[('one-hot-encoder',\n",
              "                                                  OneHotEncoder(handle_unknown='ignore'),\n",
              "                                                  ['landslide_type', 'trigger',\n",
              "                                                   'location_description',\n",
              "                                                   'continentcode']),\n",
              "                                                 ('standard_scaler',\n",
              "                                                  StandardScaler(),\n",
              "                                                  ['fatalities', 'injuries',\n",
              "                                                   'location_accuracy',\n",
              "                                                   'distance', 'population',\n",
              "                                                   'longitude', 'latitude',\n",
              "                                                   'countrycode'])])),\n",
              "                ('decisiontreeclassifier', DecisionTreeClassifier())])"
            ],
            "text/html": [
              "<style>#sk-container-id-17 {color: black;background-color: white;}#sk-container-id-17 pre{padding: 0;}#sk-container-id-17 div.sk-toggleable {background-color: white;}#sk-container-id-17 label.sk-toggleable__label {cursor: pointer;display: block;width: 100%;margin-bottom: 0;padding: 0.3em;box-sizing: border-box;text-align: center;}#sk-container-id-17 label.sk-toggleable__label-arrow:before {content: \"▸\";float: left;margin-right: 0.25em;color: #696969;}#sk-container-id-17 label.sk-toggleable__label-arrow:hover:before {color: black;}#sk-container-id-17 div.sk-estimator:hover label.sk-toggleable__label-arrow:before {color: black;}#sk-container-id-17 div.sk-toggleable__content {max-height: 0;max-width: 0;overflow: hidden;text-align: left;background-color: #f0f8ff;}#sk-container-id-17 div.sk-toggleable__content pre {margin: 0.2em;color: black;border-radius: 0.25em;background-color: #f0f8ff;}#sk-container-id-17 input.sk-toggleable__control:checked~div.sk-toggleable__content {max-height: 200px;max-width: 100%;overflow: auto;}#sk-container-id-17 input.sk-toggleable__control:checked~label.sk-toggleable__label-arrow:before {content: \"▾\";}#sk-container-id-17 div.sk-estimator input.sk-toggleable__control:checked~label.sk-toggleable__label {background-color: #d4ebff;}#sk-container-id-17 div.sk-label input.sk-toggleable__control:checked~label.sk-toggleable__label {background-color: #d4ebff;}#sk-container-id-17 input.sk-hidden--visually {border: 0;clip: rect(1px 1px 1px 1px);clip: rect(1px, 1px, 1px, 1px);height: 1px;margin: -1px;overflow: hidden;padding: 0;position: absolute;width: 1px;}#sk-container-id-17 div.sk-estimator {font-family: monospace;background-color: #f0f8ff;border: 1px dotted black;border-radius: 0.25em;box-sizing: border-box;margin-bottom: 0.5em;}#sk-container-id-17 div.sk-estimator:hover {background-color: #d4ebff;}#sk-container-id-17 div.sk-parallel-item::after {content: \"\";width: 100%;border-bottom: 1px solid gray;flex-grow: 1;}#sk-container-id-17 div.sk-label:hover label.sk-toggleable__label {background-color: #d4ebff;}#sk-container-id-17 div.sk-serial::before {content: \"\";position: absolute;border-left: 1px solid gray;box-sizing: border-box;top: 0;bottom: 0;left: 50%;z-index: 0;}#sk-container-id-17 div.sk-serial {display: flex;flex-direction: column;align-items: center;background-color: white;padding-right: 0.2em;padding-left: 0.2em;position: relative;}#sk-container-id-17 div.sk-item {position: relative;z-index: 1;}#sk-container-id-17 div.sk-parallel {display: flex;align-items: stretch;justify-content: center;background-color: white;position: relative;}#sk-container-id-17 div.sk-item::before, #sk-container-id-17 div.sk-parallel-item::before {content: \"\";position: absolute;border-left: 1px solid gray;box-sizing: border-box;top: 0;bottom: 0;left: 50%;z-index: -1;}#sk-container-id-17 div.sk-parallel-item {display: flex;flex-direction: column;z-index: 1;position: relative;background-color: white;}#sk-container-id-17 div.sk-parallel-item:first-child::after {align-self: flex-end;width: 50%;}#sk-container-id-17 div.sk-parallel-item:last-child::after {align-self: flex-start;width: 50%;}#sk-container-id-17 div.sk-parallel-item:only-child::after {width: 0;}#sk-container-id-17 div.sk-dashed-wrapped {border: 1px dashed gray;margin: 0 0.4em 0.5em 0.4em;box-sizing: border-box;padding-bottom: 0.4em;background-color: white;}#sk-container-id-17 div.sk-label label {font-family: monospace;font-weight: bold;display: inline-block;line-height: 1.2em;}#sk-container-id-17 div.sk-label-container {text-align: center;}#sk-container-id-17 div.sk-container {/* jupyter's `normalize.less` sets `[hidden] { display: none; }` but bootstrap.min.css set `[hidden] { display: none !important; }` so we also need the `!important` here to be able to override the default hidden behavior on the sphinx rendered scikit-learn.org. See: https://github.com/scikit-learn/scikit-learn/issues/21755 */display: inline-block !important;position: relative;}#sk-container-id-17 div.sk-text-repr-fallback {display: none;}</style><div id=\"sk-container-id-17\" class=\"sk-top-container\"><div class=\"sk-text-repr-fallback\"><pre>Pipeline(steps=[(&#x27;columntransformer&#x27;,\n",
              "                 ColumnTransformer(transformers=[(&#x27;one-hot-encoder&#x27;,\n",
              "                                                  OneHotEncoder(handle_unknown=&#x27;ignore&#x27;),\n",
              "                                                  [&#x27;landslide_type&#x27;, &#x27;trigger&#x27;,\n",
              "                                                   &#x27;location_description&#x27;,\n",
              "                                                   &#x27;continentcode&#x27;]),\n",
              "                                                 (&#x27;standard_scaler&#x27;,\n",
              "                                                  StandardScaler(),\n",
              "                                                  [&#x27;fatalities&#x27;, &#x27;injuries&#x27;,\n",
              "                                                   &#x27;location_accuracy&#x27;,\n",
              "                                                   &#x27;distance&#x27;, &#x27;population&#x27;,\n",
              "                                                   &#x27;longitude&#x27;, &#x27;latitude&#x27;,\n",
              "                                                   &#x27;countrycode&#x27;])])),\n",
              "                (&#x27;decisiontreeclassifier&#x27;, DecisionTreeClassifier())])</pre><b>In a Jupyter environment, please rerun this cell to show the HTML representation or trust the notebook. <br />On GitHub, the HTML representation is unable to render, please try loading this page with nbviewer.org.</b></div><div class=\"sk-container\" hidden><div class=\"sk-item sk-dashed-wrapped\"><div class=\"sk-label-container\"><div class=\"sk-label sk-toggleable\"><input class=\"sk-toggleable__control sk-hidden--visually\" id=\"sk-estimator-id-113\" type=\"checkbox\" ><label for=\"sk-estimator-id-113\" class=\"sk-toggleable__label sk-toggleable__label-arrow\">Pipeline</label><div class=\"sk-toggleable__content\"><pre>Pipeline(steps=[(&#x27;columntransformer&#x27;,\n",
              "                 ColumnTransformer(transformers=[(&#x27;one-hot-encoder&#x27;,\n",
              "                                                  OneHotEncoder(handle_unknown=&#x27;ignore&#x27;),\n",
              "                                                  [&#x27;landslide_type&#x27;, &#x27;trigger&#x27;,\n",
              "                                                   &#x27;location_description&#x27;,\n",
              "                                                   &#x27;continentcode&#x27;]),\n",
              "                                                 (&#x27;standard_scaler&#x27;,\n",
              "                                                  StandardScaler(),\n",
              "                                                  [&#x27;fatalities&#x27;, &#x27;injuries&#x27;,\n",
              "                                                   &#x27;location_accuracy&#x27;,\n",
              "                                                   &#x27;distance&#x27;, &#x27;population&#x27;,\n",
              "                                                   &#x27;longitude&#x27;, &#x27;latitude&#x27;,\n",
              "                                                   &#x27;countrycode&#x27;])])),\n",
              "                (&#x27;decisiontreeclassifier&#x27;, DecisionTreeClassifier())])</pre></div></div></div><div class=\"sk-serial\"><div class=\"sk-item sk-dashed-wrapped\"><div class=\"sk-label-container\"><div class=\"sk-label sk-toggleable\"><input class=\"sk-toggleable__control sk-hidden--visually\" id=\"sk-estimator-id-114\" type=\"checkbox\" ><label for=\"sk-estimator-id-114\" class=\"sk-toggleable__label sk-toggleable__label-arrow\">columntransformer: ColumnTransformer</label><div class=\"sk-toggleable__content\"><pre>ColumnTransformer(transformers=[(&#x27;one-hot-encoder&#x27;,\n",
              "                                 OneHotEncoder(handle_unknown=&#x27;ignore&#x27;),\n",
              "                                 [&#x27;landslide_type&#x27;, &#x27;trigger&#x27;,\n",
              "                                  &#x27;location_description&#x27;, &#x27;continentcode&#x27;]),\n",
              "                                (&#x27;standard_scaler&#x27;, StandardScaler(),\n",
              "                                 [&#x27;fatalities&#x27;, &#x27;injuries&#x27;, &#x27;location_accuracy&#x27;,\n",
              "                                  &#x27;distance&#x27;, &#x27;population&#x27;, &#x27;longitude&#x27;,\n",
              "                                  &#x27;latitude&#x27;, &#x27;countrycode&#x27;])])</pre></div></div></div><div class=\"sk-parallel\"><div class=\"sk-parallel-item\"><div class=\"sk-item\"><div class=\"sk-label-container\"><div class=\"sk-label sk-toggleable\"><input class=\"sk-toggleable__control sk-hidden--visually\" id=\"sk-estimator-id-115\" type=\"checkbox\" ><label for=\"sk-estimator-id-115\" class=\"sk-toggleable__label sk-toggleable__label-arrow\">one-hot-encoder</label><div class=\"sk-toggleable__content\"><pre>[&#x27;landslide_type&#x27;, &#x27;trigger&#x27;, &#x27;location_description&#x27;, &#x27;continentcode&#x27;]</pre></div></div></div><div class=\"sk-serial\"><div class=\"sk-item\"><div class=\"sk-estimator sk-toggleable\"><input class=\"sk-toggleable__control sk-hidden--visually\" id=\"sk-estimator-id-116\" type=\"checkbox\" ><label for=\"sk-estimator-id-116\" class=\"sk-toggleable__label sk-toggleable__label-arrow\">OneHotEncoder</label><div class=\"sk-toggleable__content\"><pre>OneHotEncoder(handle_unknown=&#x27;ignore&#x27;)</pre></div></div></div></div></div></div><div class=\"sk-parallel-item\"><div class=\"sk-item\"><div class=\"sk-label-container\"><div class=\"sk-label sk-toggleable\"><input class=\"sk-toggleable__control sk-hidden--visually\" id=\"sk-estimator-id-117\" type=\"checkbox\" ><label for=\"sk-estimator-id-117\" class=\"sk-toggleable__label sk-toggleable__label-arrow\">standard_scaler</label><div class=\"sk-toggleable__content\"><pre>[&#x27;fatalities&#x27;, &#x27;injuries&#x27;, &#x27;location_accuracy&#x27;, &#x27;distance&#x27;, &#x27;population&#x27;, &#x27;longitude&#x27;, &#x27;latitude&#x27;, &#x27;countrycode&#x27;]</pre></div></div></div><div class=\"sk-serial\"><div class=\"sk-item\"><div class=\"sk-estimator sk-toggleable\"><input class=\"sk-toggleable__control sk-hidden--visually\" id=\"sk-estimator-id-118\" type=\"checkbox\" ><label for=\"sk-estimator-id-118\" class=\"sk-toggleable__label sk-toggleable__label-arrow\">StandardScaler</label><div class=\"sk-toggleable__content\"><pre>StandardScaler()</pre></div></div></div></div></div></div></div></div><div class=\"sk-item\"><div class=\"sk-estimator sk-toggleable\"><input class=\"sk-toggleable__control sk-hidden--visually\" id=\"sk-estimator-id-119\" type=\"checkbox\" ><label for=\"sk-estimator-id-119\" class=\"sk-toggleable__label sk-toggleable__label-arrow\">DecisionTreeClassifier</label><div class=\"sk-toggleable__content\"><pre>DecisionTreeClassifier()</pre></div></div></div></div></div></div></div>"
            ]
          },
          "metadata": {},
          "execution_count": 322
        }
      ]
    },
    {
      "cell_type": "code",
      "source": [
        "modeldtc.fit(X_train,Y_train)\n"
      ],
      "metadata": {
        "colab": {
          "base_uri": "https://localhost:8080/",
          "height": 192
        },
        "id": "C65vnkDxQdJR",
        "outputId": "711d37c1-a0f0-4c9a-c8c0-e73c2faa6ea6"
      },
      "execution_count": null,
      "outputs": [
        {
          "output_type": "execute_result",
          "data": {
            "text/plain": [
              "Pipeline(steps=[('columntransformer',\n",
              "                 ColumnTransformer(transformers=[('one-hot-encoder',\n",
              "                                                  OneHotEncoder(handle_unknown='ignore'),\n",
              "                                                  ['landslide_type', 'trigger',\n",
              "                                                   'location_description',\n",
              "                                                   'continentcode']),\n",
              "                                                 ('standard_scaler',\n",
              "                                                  StandardScaler(),\n",
              "                                                  ['fatalities', 'injuries',\n",
              "                                                   'location_accuracy',\n",
              "                                                   'distance', 'population',\n",
              "                                                   'longitude', 'latitude',\n",
              "                                                   'countrycode'])])),\n",
              "                ('decisiontreeclassifier', DecisionTreeClassifier())])"
            ],
            "text/html": [
              "<style>#sk-container-id-18 {color: black;background-color: white;}#sk-container-id-18 pre{padding: 0;}#sk-container-id-18 div.sk-toggleable {background-color: white;}#sk-container-id-18 label.sk-toggleable__label {cursor: pointer;display: block;width: 100%;margin-bottom: 0;padding: 0.3em;box-sizing: border-box;text-align: center;}#sk-container-id-18 label.sk-toggleable__label-arrow:before {content: \"▸\";float: left;margin-right: 0.25em;color: #696969;}#sk-container-id-18 label.sk-toggleable__label-arrow:hover:before {color: black;}#sk-container-id-18 div.sk-estimator:hover label.sk-toggleable__label-arrow:before {color: black;}#sk-container-id-18 div.sk-toggleable__content {max-height: 0;max-width: 0;overflow: hidden;text-align: left;background-color: #f0f8ff;}#sk-container-id-18 div.sk-toggleable__content pre {margin: 0.2em;color: black;border-radius: 0.25em;background-color: #f0f8ff;}#sk-container-id-18 input.sk-toggleable__control:checked~div.sk-toggleable__content {max-height: 200px;max-width: 100%;overflow: auto;}#sk-container-id-18 input.sk-toggleable__control:checked~label.sk-toggleable__label-arrow:before {content: \"▾\";}#sk-container-id-18 div.sk-estimator input.sk-toggleable__control:checked~label.sk-toggleable__label {background-color: #d4ebff;}#sk-container-id-18 div.sk-label input.sk-toggleable__control:checked~label.sk-toggleable__label {background-color: #d4ebff;}#sk-container-id-18 input.sk-hidden--visually {border: 0;clip: rect(1px 1px 1px 1px);clip: rect(1px, 1px, 1px, 1px);height: 1px;margin: -1px;overflow: hidden;padding: 0;position: absolute;width: 1px;}#sk-container-id-18 div.sk-estimator {font-family: monospace;background-color: #f0f8ff;border: 1px dotted black;border-radius: 0.25em;box-sizing: border-box;margin-bottom: 0.5em;}#sk-container-id-18 div.sk-estimator:hover {background-color: #d4ebff;}#sk-container-id-18 div.sk-parallel-item::after {content: \"\";width: 100%;border-bottom: 1px solid gray;flex-grow: 1;}#sk-container-id-18 div.sk-label:hover label.sk-toggleable__label {background-color: #d4ebff;}#sk-container-id-18 div.sk-serial::before {content: \"\";position: absolute;border-left: 1px solid gray;box-sizing: border-box;top: 0;bottom: 0;left: 50%;z-index: 0;}#sk-container-id-18 div.sk-serial {display: flex;flex-direction: column;align-items: center;background-color: white;padding-right: 0.2em;padding-left: 0.2em;position: relative;}#sk-container-id-18 div.sk-item {position: relative;z-index: 1;}#sk-container-id-18 div.sk-parallel {display: flex;align-items: stretch;justify-content: center;background-color: white;position: relative;}#sk-container-id-18 div.sk-item::before, #sk-container-id-18 div.sk-parallel-item::before {content: \"\";position: absolute;border-left: 1px solid gray;box-sizing: border-box;top: 0;bottom: 0;left: 50%;z-index: -1;}#sk-container-id-18 div.sk-parallel-item {display: flex;flex-direction: column;z-index: 1;position: relative;background-color: white;}#sk-container-id-18 div.sk-parallel-item:first-child::after {align-self: flex-end;width: 50%;}#sk-container-id-18 div.sk-parallel-item:last-child::after {align-self: flex-start;width: 50%;}#sk-container-id-18 div.sk-parallel-item:only-child::after {width: 0;}#sk-container-id-18 div.sk-dashed-wrapped {border: 1px dashed gray;margin: 0 0.4em 0.5em 0.4em;box-sizing: border-box;padding-bottom: 0.4em;background-color: white;}#sk-container-id-18 div.sk-label label {font-family: monospace;font-weight: bold;display: inline-block;line-height: 1.2em;}#sk-container-id-18 div.sk-label-container {text-align: center;}#sk-container-id-18 div.sk-container {/* jupyter's `normalize.less` sets `[hidden] { display: none; }` but bootstrap.min.css set `[hidden] { display: none !important; }` so we also need the `!important` here to be able to override the default hidden behavior on the sphinx rendered scikit-learn.org. See: https://github.com/scikit-learn/scikit-learn/issues/21755 */display: inline-block !important;position: relative;}#sk-container-id-18 div.sk-text-repr-fallback {display: none;}</style><div id=\"sk-container-id-18\" class=\"sk-top-container\"><div class=\"sk-text-repr-fallback\"><pre>Pipeline(steps=[(&#x27;columntransformer&#x27;,\n",
              "                 ColumnTransformer(transformers=[(&#x27;one-hot-encoder&#x27;,\n",
              "                                                  OneHotEncoder(handle_unknown=&#x27;ignore&#x27;),\n",
              "                                                  [&#x27;landslide_type&#x27;, &#x27;trigger&#x27;,\n",
              "                                                   &#x27;location_description&#x27;,\n",
              "                                                   &#x27;continentcode&#x27;]),\n",
              "                                                 (&#x27;standard_scaler&#x27;,\n",
              "                                                  StandardScaler(),\n",
              "                                                  [&#x27;fatalities&#x27;, &#x27;injuries&#x27;,\n",
              "                                                   &#x27;location_accuracy&#x27;,\n",
              "                                                   &#x27;distance&#x27;, &#x27;population&#x27;,\n",
              "                                                   &#x27;longitude&#x27;, &#x27;latitude&#x27;,\n",
              "                                                   &#x27;countrycode&#x27;])])),\n",
              "                (&#x27;decisiontreeclassifier&#x27;, DecisionTreeClassifier())])</pre><b>In a Jupyter environment, please rerun this cell to show the HTML representation or trust the notebook. <br />On GitHub, the HTML representation is unable to render, please try loading this page with nbviewer.org.</b></div><div class=\"sk-container\" hidden><div class=\"sk-item sk-dashed-wrapped\"><div class=\"sk-label-container\"><div class=\"sk-label sk-toggleable\"><input class=\"sk-toggleable__control sk-hidden--visually\" id=\"sk-estimator-id-120\" type=\"checkbox\" ><label for=\"sk-estimator-id-120\" class=\"sk-toggleable__label sk-toggleable__label-arrow\">Pipeline</label><div class=\"sk-toggleable__content\"><pre>Pipeline(steps=[(&#x27;columntransformer&#x27;,\n",
              "                 ColumnTransformer(transformers=[(&#x27;one-hot-encoder&#x27;,\n",
              "                                                  OneHotEncoder(handle_unknown=&#x27;ignore&#x27;),\n",
              "                                                  [&#x27;landslide_type&#x27;, &#x27;trigger&#x27;,\n",
              "                                                   &#x27;location_description&#x27;,\n",
              "                                                   &#x27;continentcode&#x27;]),\n",
              "                                                 (&#x27;standard_scaler&#x27;,\n",
              "                                                  StandardScaler(),\n",
              "                                                  [&#x27;fatalities&#x27;, &#x27;injuries&#x27;,\n",
              "                                                   &#x27;location_accuracy&#x27;,\n",
              "                                                   &#x27;distance&#x27;, &#x27;population&#x27;,\n",
              "                                                   &#x27;longitude&#x27;, &#x27;latitude&#x27;,\n",
              "                                                   &#x27;countrycode&#x27;])])),\n",
              "                (&#x27;decisiontreeclassifier&#x27;, DecisionTreeClassifier())])</pre></div></div></div><div class=\"sk-serial\"><div class=\"sk-item sk-dashed-wrapped\"><div class=\"sk-label-container\"><div class=\"sk-label sk-toggleable\"><input class=\"sk-toggleable__control sk-hidden--visually\" id=\"sk-estimator-id-121\" type=\"checkbox\" ><label for=\"sk-estimator-id-121\" class=\"sk-toggleable__label sk-toggleable__label-arrow\">columntransformer: ColumnTransformer</label><div class=\"sk-toggleable__content\"><pre>ColumnTransformer(transformers=[(&#x27;one-hot-encoder&#x27;,\n",
              "                                 OneHotEncoder(handle_unknown=&#x27;ignore&#x27;),\n",
              "                                 [&#x27;landslide_type&#x27;, &#x27;trigger&#x27;,\n",
              "                                  &#x27;location_description&#x27;, &#x27;continentcode&#x27;]),\n",
              "                                (&#x27;standard_scaler&#x27;, StandardScaler(),\n",
              "                                 [&#x27;fatalities&#x27;, &#x27;injuries&#x27;, &#x27;location_accuracy&#x27;,\n",
              "                                  &#x27;distance&#x27;, &#x27;population&#x27;, &#x27;longitude&#x27;,\n",
              "                                  &#x27;latitude&#x27;, &#x27;countrycode&#x27;])])</pre></div></div></div><div class=\"sk-parallel\"><div class=\"sk-parallel-item\"><div class=\"sk-item\"><div class=\"sk-label-container\"><div class=\"sk-label sk-toggleable\"><input class=\"sk-toggleable__control sk-hidden--visually\" id=\"sk-estimator-id-122\" type=\"checkbox\" ><label for=\"sk-estimator-id-122\" class=\"sk-toggleable__label sk-toggleable__label-arrow\">one-hot-encoder</label><div class=\"sk-toggleable__content\"><pre>[&#x27;landslide_type&#x27;, &#x27;trigger&#x27;, &#x27;location_description&#x27;, &#x27;continentcode&#x27;]</pre></div></div></div><div class=\"sk-serial\"><div class=\"sk-item\"><div class=\"sk-estimator sk-toggleable\"><input class=\"sk-toggleable__control sk-hidden--visually\" id=\"sk-estimator-id-123\" type=\"checkbox\" ><label for=\"sk-estimator-id-123\" class=\"sk-toggleable__label sk-toggleable__label-arrow\">OneHotEncoder</label><div class=\"sk-toggleable__content\"><pre>OneHotEncoder(handle_unknown=&#x27;ignore&#x27;)</pre></div></div></div></div></div></div><div class=\"sk-parallel-item\"><div class=\"sk-item\"><div class=\"sk-label-container\"><div class=\"sk-label sk-toggleable\"><input class=\"sk-toggleable__control sk-hidden--visually\" id=\"sk-estimator-id-124\" type=\"checkbox\" ><label for=\"sk-estimator-id-124\" class=\"sk-toggleable__label sk-toggleable__label-arrow\">standard_scaler</label><div class=\"sk-toggleable__content\"><pre>[&#x27;fatalities&#x27;, &#x27;injuries&#x27;, &#x27;location_accuracy&#x27;, &#x27;distance&#x27;, &#x27;population&#x27;, &#x27;longitude&#x27;, &#x27;latitude&#x27;, &#x27;countrycode&#x27;]</pre></div></div></div><div class=\"sk-serial\"><div class=\"sk-item\"><div class=\"sk-estimator sk-toggleable\"><input class=\"sk-toggleable__control sk-hidden--visually\" id=\"sk-estimator-id-125\" type=\"checkbox\" ><label for=\"sk-estimator-id-125\" class=\"sk-toggleable__label sk-toggleable__label-arrow\">StandardScaler</label><div class=\"sk-toggleable__content\"><pre>StandardScaler()</pre></div></div></div></div></div></div></div></div><div class=\"sk-item\"><div class=\"sk-estimator sk-toggleable\"><input class=\"sk-toggleable__control sk-hidden--visually\" id=\"sk-estimator-id-126\" type=\"checkbox\" ><label for=\"sk-estimator-id-126\" class=\"sk-toggleable__label sk-toggleable__label-arrow\">DecisionTreeClassifier</label><div class=\"sk-toggleable__content\"><pre>DecisionTreeClassifier()</pre></div></div></div></div></div></div></div>"
            ]
          },
          "metadata": {},
          "execution_count": 323
        }
      ]
    },
    {
      "cell_type": "markdown",
      "source": [
        "Accuracy\n"
      ],
      "metadata": {
        "id": "FzRJESPjmqT7"
      }
    },
    {
      "cell_type": "code",
      "source": [
        "preddtc=modeldtc.predict(X_test)\n",
        "print(modeldtc.score(X_test,Y_test))"
      ],
      "metadata": {
        "colab": {
          "base_uri": "https://localhost:8080/"
        },
        "id": "T1309wlfQltp",
        "outputId": "a326bdb6-f9bb-4271-fc09-79c900439d59"
      },
      "execution_count": null,
      "outputs": [
        {
          "output_type": "stream",
          "name": "stdout",
          "text": [
            "0.5757575757575758\n"
          ]
        }
      ]
    },
    {
      "cell_type": "markdown",
      "source": [
        "Support Vector Machine pipeline"
      ],
      "metadata": {
        "id": "0RT6SPaemuAk"
      }
    },
    {
      "cell_type": "code",
      "source": [
        "from sklearn.svm import SVC\n",
        "svc = SVC()\n",
        "model_svc=make_pipeline(preprocessor, svc)\n",
        "model_svc\n"
      ],
      "metadata": {
        "colab": {
          "base_uri": "https://localhost:8080/",
          "height": 192
        },
        "id": "EHSD2b6XRIa6",
        "outputId": "b695973c-26f0-4183-ab60-f6010f4da192"
      },
      "execution_count": null,
      "outputs": [
        {
          "output_type": "execute_result",
          "data": {
            "text/plain": [
              "Pipeline(steps=[('columntransformer',\n",
              "                 ColumnTransformer(transformers=[('one-hot-encoder',\n",
              "                                                  OneHotEncoder(handle_unknown='ignore'),\n",
              "                                                  ['landslide_type', 'trigger',\n",
              "                                                   'location_description',\n",
              "                                                   'continentcode']),\n",
              "                                                 ('standard_scaler',\n",
              "                                                  StandardScaler(),\n",
              "                                                  ['fatalities', 'injuries',\n",
              "                                                   'location_accuracy',\n",
              "                                                   'distance', 'population',\n",
              "                                                   'longitude', 'latitude',\n",
              "                                                   'countrycode'])])),\n",
              "                ('svc', SVC())])"
            ],
            "text/html": [
              "<style>#sk-container-id-19 {color: black;background-color: white;}#sk-container-id-19 pre{padding: 0;}#sk-container-id-19 div.sk-toggleable {background-color: white;}#sk-container-id-19 label.sk-toggleable__label {cursor: pointer;display: block;width: 100%;margin-bottom: 0;padding: 0.3em;box-sizing: border-box;text-align: center;}#sk-container-id-19 label.sk-toggleable__label-arrow:before {content: \"▸\";float: left;margin-right: 0.25em;color: #696969;}#sk-container-id-19 label.sk-toggleable__label-arrow:hover:before {color: black;}#sk-container-id-19 div.sk-estimator:hover label.sk-toggleable__label-arrow:before {color: black;}#sk-container-id-19 div.sk-toggleable__content {max-height: 0;max-width: 0;overflow: hidden;text-align: left;background-color: #f0f8ff;}#sk-container-id-19 div.sk-toggleable__content pre {margin: 0.2em;color: black;border-radius: 0.25em;background-color: #f0f8ff;}#sk-container-id-19 input.sk-toggleable__control:checked~div.sk-toggleable__content {max-height: 200px;max-width: 100%;overflow: auto;}#sk-container-id-19 input.sk-toggleable__control:checked~label.sk-toggleable__label-arrow:before {content: \"▾\";}#sk-container-id-19 div.sk-estimator input.sk-toggleable__control:checked~label.sk-toggleable__label {background-color: #d4ebff;}#sk-container-id-19 div.sk-label input.sk-toggleable__control:checked~label.sk-toggleable__label {background-color: #d4ebff;}#sk-container-id-19 input.sk-hidden--visually {border: 0;clip: rect(1px 1px 1px 1px);clip: rect(1px, 1px, 1px, 1px);height: 1px;margin: -1px;overflow: hidden;padding: 0;position: absolute;width: 1px;}#sk-container-id-19 div.sk-estimator {font-family: monospace;background-color: #f0f8ff;border: 1px dotted black;border-radius: 0.25em;box-sizing: border-box;margin-bottom: 0.5em;}#sk-container-id-19 div.sk-estimator:hover {background-color: #d4ebff;}#sk-container-id-19 div.sk-parallel-item::after {content: \"\";width: 100%;border-bottom: 1px solid gray;flex-grow: 1;}#sk-container-id-19 div.sk-label:hover label.sk-toggleable__label {background-color: #d4ebff;}#sk-container-id-19 div.sk-serial::before {content: \"\";position: absolute;border-left: 1px solid gray;box-sizing: border-box;top: 0;bottom: 0;left: 50%;z-index: 0;}#sk-container-id-19 div.sk-serial {display: flex;flex-direction: column;align-items: center;background-color: white;padding-right: 0.2em;padding-left: 0.2em;position: relative;}#sk-container-id-19 div.sk-item {position: relative;z-index: 1;}#sk-container-id-19 div.sk-parallel {display: flex;align-items: stretch;justify-content: center;background-color: white;position: relative;}#sk-container-id-19 div.sk-item::before, #sk-container-id-19 div.sk-parallel-item::before {content: \"\";position: absolute;border-left: 1px solid gray;box-sizing: border-box;top: 0;bottom: 0;left: 50%;z-index: -1;}#sk-container-id-19 div.sk-parallel-item {display: flex;flex-direction: column;z-index: 1;position: relative;background-color: white;}#sk-container-id-19 div.sk-parallel-item:first-child::after {align-self: flex-end;width: 50%;}#sk-container-id-19 div.sk-parallel-item:last-child::after {align-self: flex-start;width: 50%;}#sk-container-id-19 div.sk-parallel-item:only-child::after {width: 0;}#sk-container-id-19 div.sk-dashed-wrapped {border: 1px dashed gray;margin: 0 0.4em 0.5em 0.4em;box-sizing: border-box;padding-bottom: 0.4em;background-color: white;}#sk-container-id-19 div.sk-label label {font-family: monospace;font-weight: bold;display: inline-block;line-height: 1.2em;}#sk-container-id-19 div.sk-label-container {text-align: center;}#sk-container-id-19 div.sk-container {/* jupyter's `normalize.less` sets `[hidden] { display: none; }` but bootstrap.min.css set `[hidden] { display: none !important; }` so we also need the `!important` here to be able to override the default hidden behavior on the sphinx rendered scikit-learn.org. See: https://github.com/scikit-learn/scikit-learn/issues/21755 */display: inline-block !important;position: relative;}#sk-container-id-19 div.sk-text-repr-fallback {display: none;}</style><div id=\"sk-container-id-19\" class=\"sk-top-container\"><div class=\"sk-text-repr-fallback\"><pre>Pipeline(steps=[(&#x27;columntransformer&#x27;,\n",
              "                 ColumnTransformer(transformers=[(&#x27;one-hot-encoder&#x27;,\n",
              "                                                  OneHotEncoder(handle_unknown=&#x27;ignore&#x27;),\n",
              "                                                  [&#x27;landslide_type&#x27;, &#x27;trigger&#x27;,\n",
              "                                                   &#x27;location_description&#x27;,\n",
              "                                                   &#x27;continentcode&#x27;]),\n",
              "                                                 (&#x27;standard_scaler&#x27;,\n",
              "                                                  StandardScaler(),\n",
              "                                                  [&#x27;fatalities&#x27;, &#x27;injuries&#x27;,\n",
              "                                                   &#x27;location_accuracy&#x27;,\n",
              "                                                   &#x27;distance&#x27;, &#x27;population&#x27;,\n",
              "                                                   &#x27;longitude&#x27;, &#x27;latitude&#x27;,\n",
              "                                                   &#x27;countrycode&#x27;])])),\n",
              "                (&#x27;svc&#x27;, SVC())])</pre><b>In a Jupyter environment, please rerun this cell to show the HTML representation or trust the notebook. <br />On GitHub, the HTML representation is unable to render, please try loading this page with nbviewer.org.</b></div><div class=\"sk-container\" hidden><div class=\"sk-item sk-dashed-wrapped\"><div class=\"sk-label-container\"><div class=\"sk-label sk-toggleable\"><input class=\"sk-toggleable__control sk-hidden--visually\" id=\"sk-estimator-id-127\" type=\"checkbox\" ><label for=\"sk-estimator-id-127\" class=\"sk-toggleable__label sk-toggleable__label-arrow\">Pipeline</label><div class=\"sk-toggleable__content\"><pre>Pipeline(steps=[(&#x27;columntransformer&#x27;,\n",
              "                 ColumnTransformer(transformers=[(&#x27;one-hot-encoder&#x27;,\n",
              "                                                  OneHotEncoder(handle_unknown=&#x27;ignore&#x27;),\n",
              "                                                  [&#x27;landslide_type&#x27;, &#x27;trigger&#x27;,\n",
              "                                                   &#x27;location_description&#x27;,\n",
              "                                                   &#x27;continentcode&#x27;]),\n",
              "                                                 (&#x27;standard_scaler&#x27;,\n",
              "                                                  StandardScaler(),\n",
              "                                                  [&#x27;fatalities&#x27;, &#x27;injuries&#x27;,\n",
              "                                                   &#x27;location_accuracy&#x27;,\n",
              "                                                   &#x27;distance&#x27;, &#x27;population&#x27;,\n",
              "                                                   &#x27;longitude&#x27;, &#x27;latitude&#x27;,\n",
              "                                                   &#x27;countrycode&#x27;])])),\n",
              "                (&#x27;svc&#x27;, SVC())])</pre></div></div></div><div class=\"sk-serial\"><div class=\"sk-item sk-dashed-wrapped\"><div class=\"sk-label-container\"><div class=\"sk-label sk-toggleable\"><input class=\"sk-toggleable__control sk-hidden--visually\" id=\"sk-estimator-id-128\" type=\"checkbox\" ><label for=\"sk-estimator-id-128\" class=\"sk-toggleable__label sk-toggleable__label-arrow\">columntransformer: ColumnTransformer</label><div class=\"sk-toggleable__content\"><pre>ColumnTransformer(transformers=[(&#x27;one-hot-encoder&#x27;,\n",
              "                                 OneHotEncoder(handle_unknown=&#x27;ignore&#x27;),\n",
              "                                 [&#x27;landslide_type&#x27;, &#x27;trigger&#x27;,\n",
              "                                  &#x27;location_description&#x27;, &#x27;continentcode&#x27;]),\n",
              "                                (&#x27;standard_scaler&#x27;, StandardScaler(),\n",
              "                                 [&#x27;fatalities&#x27;, &#x27;injuries&#x27;, &#x27;location_accuracy&#x27;,\n",
              "                                  &#x27;distance&#x27;, &#x27;population&#x27;, &#x27;longitude&#x27;,\n",
              "                                  &#x27;latitude&#x27;, &#x27;countrycode&#x27;])])</pre></div></div></div><div class=\"sk-parallel\"><div class=\"sk-parallel-item\"><div class=\"sk-item\"><div class=\"sk-label-container\"><div class=\"sk-label sk-toggleable\"><input class=\"sk-toggleable__control sk-hidden--visually\" id=\"sk-estimator-id-129\" type=\"checkbox\" ><label for=\"sk-estimator-id-129\" class=\"sk-toggleable__label sk-toggleable__label-arrow\">one-hot-encoder</label><div class=\"sk-toggleable__content\"><pre>[&#x27;landslide_type&#x27;, &#x27;trigger&#x27;, &#x27;location_description&#x27;, &#x27;continentcode&#x27;]</pre></div></div></div><div class=\"sk-serial\"><div class=\"sk-item\"><div class=\"sk-estimator sk-toggleable\"><input class=\"sk-toggleable__control sk-hidden--visually\" id=\"sk-estimator-id-130\" type=\"checkbox\" ><label for=\"sk-estimator-id-130\" class=\"sk-toggleable__label sk-toggleable__label-arrow\">OneHotEncoder</label><div class=\"sk-toggleable__content\"><pre>OneHotEncoder(handle_unknown=&#x27;ignore&#x27;)</pre></div></div></div></div></div></div><div class=\"sk-parallel-item\"><div class=\"sk-item\"><div class=\"sk-label-container\"><div class=\"sk-label sk-toggleable\"><input class=\"sk-toggleable__control sk-hidden--visually\" id=\"sk-estimator-id-131\" type=\"checkbox\" ><label for=\"sk-estimator-id-131\" class=\"sk-toggleable__label sk-toggleable__label-arrow\">standard_scaler</label><div class=\"sk-toggleable__content\"><pre>[&#x27;fatalities&#x27;, &#x27;injuries&#x27;, &#x27;location_accuracy&#x27;, &#x27;distance&#x27;, &#x27;population&#x27;, &#x27;longitude&#x27;, &#x27;latitude&#x27;, &#x27;countrycode&#x27;]</pre></div></div></div><div class=\"sk-serial\"><div class=\"sk-item\"><div class=\"sk-estimator sk-toggleable\"><input class=\"sk-toggleable__control sk-hidden--visually\" id=\"sk-estimator-id-132\" type=\"checkbox\" ><label for=\"sk-estimator-id-132\" class=\"sk-toggleable__label sk-toggleable__label-arrow\">StandardScaler</label><div class=\"sk-toggleable__content\"><pre>StandardScaler()</pre></div></div></div></div></div></div></div></div><div class=\"sk-item\"><div class=\"sk-estimator sk-toggleable\"><input class=\"sk-toggleable__control sk-hidden--visually\" id=\"sk-estimator-id-133\" type=\"checkbox\" ><label for=\"sk-estimator-id-133\" class=\"sk-toggleable__label sk-toggleable__label-arrow\">SVC</label><div class=\"sk-toggleable__content\"><pre>SVC()</pre></div></div></div></div></div></div></div>"
            ]
          },
          "metadata": {},
          "execution_count": 325
        }
      ]
    },
    {
      "cell_type": "markdown",
      "source": [
        "accuracy"
      ],
      "metadata": {
        "id": "1IKoRp5JnF3K"
      }
    },
    {
      "cell_type": "code",
      "source": [
        "model_svc.fit(X_train,Y_train)\n",
        "predsvc=model_svc.predict(X_test)\n",
        "print(model_svc.score(X_test,Y_test))"
      ],
      "metadata": {
        "colab": {
          "base_uri": "https://localhost:8080/"
        },
        "id": "Dy1xauYARY7M",
        "outputId": "aea92828-c035-46e7-813f-c5e583873182"
      },
      "execution_count": null,
      "outputs": [
        {
          "output_type": "stream",
          "name": "stdout",
          "text": [
            "0.6313131313131313\n"
          ]
        }
      ]
    },
    {
      "cell_type": "markdown",
      "source": [
        "K Nearest Neighbours Classifier Pipeline"
      ],
      "metadata": {
        "id": "-8HXYCw2nIl8"
      }
    },
    {
      "cell_type": "code",
      "source": [
        "from sklearn.neighbors import KNeighborsClassifier\n",
        "knn = KNeighborsClassifier()\n",
        "model_knn=make_pipeline(preprocessor,knn)\n",
        "model_knn\n"
      ],
      "metadata": {
        "colab": {
          "base_uri": "https://localhost:8080/",
          "height": 192
        },
        "id": "v6WaQmRrSgAV",
        "outputId": "72669512-6fbb-44e4-bb98-3dbc7f51e803"
      },
      "execution_count": null,
      "outputs": [
        {
          "output_type": "execute_result",
          "data": {
            "text/plain": [
              "Pipeline(steps=[('columntransformer',\n",
              "                 ColumnTransformer(transformers=[('one-hot-encoder',\n",
              "                                                  OneHotEncoder(handle_unknown='ignore'),\n",
              "                                                  ['landslide_type', 'trigger',\n",
              "                                                   'location_description',\n",
              "                                                   'continentcode']),\n",
              "                                                 ('standard_scaler',\n",
              "                                                  StandardScaler(),\n",
              "                                                  ['fatalities', 'injuries',\n",
              "                                                   'location_accuracy',\n",
              "                                                   'distance', 'population',\n",
              "                                                   'longitude', 'latitude',\n",
              "                                                   'countrycode'])])),\n",
              "                ('kneighborsclassifier', KNeighborsClassifier())])"
            ],
            "text/html": [
              "<style>#sk-container-id-20 {color: black;background-color: white;}#sk-container-id-20 pre{padding: 0;}#sk-container-id-20 div.sk-toggleable {background-color: white;}#sk-container-id-20 label.sk-toggleable__label {cursor: pointer;display: block;width: 100%;margin-bottom: 0;padding: 0.3em;box-sizing: border-box;text-align: center;}#sk-container-id-20 label.sk-toggleable__label-arrow:before {content: \"▸\";float: left;margin-right: 0.25em;color: #696969;}#sk-container-id-20 label.sk-toggleable__label-arrow:hover:before {color: black;}#sk-container-id-20 div.sk-estimator:hover label.sk-toggleable__label-arrow:before {color: black;}#sk-container-id-20 div.sk-toggleable__content {max-height: 0;max-width: 0;overflow: hidden;text-align: left;background-color: #f0f8ff;}#sk-container-id-20 div.sk-toggleable__content pre {margin: 0.2em;color: black;border-radius: 0.25em;background-color: #f0f8ff;}#sk-container-id-20 input.sk-toggleable__control:checked~div.sk-toggleable__content {max-height: 200px;max-width: 100%;overflow: auto;}#sk-container-id-20 input.sk-toggleable__control:checked~label.sk-toggleable__label-arrow:before {content: \"▾\";}#sk-container-id-20 div.sk-estimator input.sk-toggleable__control:checked~label.sk-toggleable__label {background-color: #d4ebff;}#sk-container-id-20 div.sk-label input.sk-toggleable__control:checked~label.sk-toggleable__label {background-color: #d4ebff;}#sk-container-id-20 input.sk-hidden--visually {border: 0;clip: rect(1px 1px 1px 1px);clip: rect(1px, 1px, 1px, 1px);height: 1px;margin: -1px;overflow: hidden;padding: 0;position: absolute;width: 1px;}#sk-container-id-20 div.sk-estimator {font-family: monospace;background-color: #f0f8ff;border: 1px dotted black;border-radius: 0.25em;box-sizing: border-box;margin-bottom: 0.5em;}#sk-container-id-20 div.sk-estimator:hover {background-color: #d4ebff;}#sk-container-id-20 div.sk-parallel-item::after {content: \"\";width: 100%;border-bottom: 1px solid gray;flex-grow: 1;}#sk-container-id-20 div.sk-label:hover label.sk-toggleable__label {background-color: #d4ebff;}#sk-container-id-20 div.sk-serial::before {content: \"\";position: absolute;border-left: 1px solid gray;box-sizing: border-box;top: 0;bottom: 0;left: 50%;z-index: 0;}#sk-container-id-20 div.sk-serial {display: flex;flex-direction: column;align-items: center;background-color: white;padding-right: 0.2em;padding-left: 0.2em;position: relative;}#sk-container-id-20 div.sk-item {position: relative;z-index: 1;}#sk-container-id-20 div.sk-parallel {display: flex;align-items: stretch;justify-content: center;background-color: white;position: relative;}#sk-container-id-20 div.sk-item::before, #sk-container-id-20 div.sk-parallel-item::before {content: \"\";position: absolute;border-left: 1px solid gray;box-sizing: border-box;top: 0;bottom: 0;left: 50%;z-index: -1;}#sk-container-id-20 div.sk-parallel-item {display: flex;flex-direction: column;z-index: 1;position: relative;background-color: white;}#sk-container-id-20 div.sk-parallel-item:first-child::after {align-self: flex-end;width: 50%;}#sk-container-id-20 div.sk-parallel-item:last-child::after {align-self: flex-start;width: 50%;}#sk-container-id-20 div.sk-parallel-item:only-child::after {width: 0;}#sk-container-id-20 div.sk-dashed-wrapped {border: 1px dashed gray;margin: 0 0.4em 0.5em 0.4em;box-sizing: border-box;padding-bottom: 0.4em;background-color: white;}#sk-container-id-20 div.sk-label label {font-family: monospace;font-weight: bold;display: inline-block;line-height: 1.2em;}#sk-container-id-20 div.sk-label-container {text-align: center;}#sk-container-id-20 div.sk-container {/* jupyter's `normalize.less` sets `[hidden] { display: none; }` but bootstrap.min.css set `[hidden] { display: none !important; }` so we also need the `!important` here to be able to override the default hidden behavior on the sphinx rendered scikit-learn.org. See: https://github.com/scikit-learn/scikit-learn/issues/21755 */display: inline-block !important;position: relative;}#sk-container-id-20 div.sk-text-repr-fallback {display: none;}</style><div id=\"sk-container-id-20\" class=\"sk-top-container\"><div class=\"sk-text-repr-fallback\"><pre>Pipeline(steps=[(&#x27;columntransformer&#x27;,\n",
              "                 ColumnTransformer(transformers=[(&#x27;one-hot-encoder&#x27;,\n",
              "                                                  OneHotEncoder(handle_unknown=&#x27;ignore&#x27;),\n",
              "                                                  [&#x27;landslide_type&#x27;, &#x27;trigger&#x27;,\n",
              "                                                   &#x27;location_description&#x27;,\n",
              "                                                   &#x27;continentcode&#x27;]),\n",
              "                                                 (&#x27;standard_scaler&#x27;,\n",
              "                                                  StandardScaler(),\n",
              "                                                  [&#x27;fatalities&#x27;, &#x27;injuries&#x27;,\n",
              "                                                   &#x27;location_accuracy&#x27;,\n",
              "                                                   &#x27;distance&#x27;, &#x27;population&#x27;,\n",
              "                                                   &#x27;longitude&#x27;, &#x27;latitude&#x27;,\n",
              "                                                   &#x27;countrycode&#x27;])])),\n",
              "                (&#x27;kneighborsclassifier&#x27;, KNeighborsClassifier())])</pre><b>In a Jupyter environment, please rerun this cell to show the HTML representation or trust the notebook. <br />On GitHub, the HTML representation is unable to render, please try loading this page with nbviewer.org.</b></div><div class=\"sk-container\" hidden><div class=\"sk-item sk-dashed-wrapped\"><div class=\"sk-label-container\"><div class=\"sk-label sk-toggleable\"><input class=\"sk-toggleable__control sk-hidden--visually\" id=\"sk-estimator-id-134\" type=\"checkbox\" ><label for=\"sk-estimator-id-134\" class=\"sk-toggleable__label sk-toggleable__label-arrow\">Pipeline</label><div class=\"sk-toggleable__content\"><pre>Pipeline(steps=[(&#x27;columntransformer&#x27;,\n",
              "                 ColumnTransformer(transformers=[(&#x27;one-hot-encoder&#x27;,\n",
              "                                                  OneHotEncoder(handle_unknown=&#x27;ignore&#x27;),\n",
              "                                                  [&#x27;landslide_type&#x27;, &#x27;trigger&#x27;,\n",
              "                                                   &#x27;location_description&#x27;,\n",
              "                                                   &#x27;continentcode&#x27;]),\n",
              "                                                 (&#x27;standard_scaler&#x27;,\n",
              "                                                  StandardScaler(),\n",
              "                                                  [&#x27;fatalities&#x27;, &#x27;injuries&#x27;,\n",
              "                                                   &#x27;location_accuracy&#x27;,\n",
              "                                                   &#x27;distance&#x27;, &#x27;population&#x27;,\n",
              "                                                   &#x27;longitude&#x27;, &#x27;latitude&#x27;,\n",
              "                                                   &#x27;countrycode&#x27;])])),\n",
              "                (&#x27;kneighborsclassifier&#x27;, KNeighborsClassifier())])</pre></div></div></div><div class=\"sk-serial\"><div class=\"sk-item sk-dashed-wrapped\"><div class=\"sk-label-container\"><div class=\"sk-label sk-toggleable\"><input class=\"sk-toggleable__control sk-hidden--visually\" id=\"sk-estimator-id-135\" type=\"checkbox\" ><label for=\"sk-estimator-id-135\" class=\"sk-toggleable__label sk-toggleable__label-arrow\">columntransformer: ColumnTransformer</label><div class=\"sk-toggleable__content\"><pre>ColumnTransformer(transformers=[(&#x27;one-hot-encoder&#x27;,\n",
              "                                 OneHotEncoder(handle_unknown=&#x27;ignore&#x27;),\n",
              "                                 [&#x27;landslide_type&#x27;, &#x27;trigger&#x27;,\n",
              "                                  &#x27;location_description&#x27;, &#x27;continentcode&#x27;]),\n",
              "                                (&#x27;standard_scaler&#x27;, StandardScaler(),\n",
              "                                 [&#x27;fatalities&#x27;, &#x27;injuries&#x27;, &#x27;location_accuracy&#x27;,\n",
              "                                  &#x27;distance&#x27;, &#x27;population&#x27;, &#x27;longitude&#x27;,\n",
              "                                  &#x27;latitude&#x27;, &#x27;countrycode&#x27;])])</pre></div></div></div><div class=\"sk-parallel\"><div class=\"sk-parallel-item\"><div class=\"sk-item\"><div class=\"sk-label-container\"><div class=\"sk-label sk-toggleable\"><input class=\"sk-toggleable__control sk-hidden--visually\" id=\"sk-estimator-id-136\" type=\"checkbox\" ><label for=\"sk-estimator-id-136\" class=\"sk-toggleable__label sk-toggleable__label-arrow\">one-hot-encoder</label><div class=\"sk-toggleable__content\"><pre>[&#x27;landslide_type&#x27;, &#x27;trigger&#x27;, &#x27;location_description&#x27;, &#x27;continentcode&#x27;]</pre></div></div></div><div class=\"sk-serial\"><div class=\"sk-item\"><div class=\"sk-estimator sk-toggleable\"><input class=\"sk-toggleable__control sk-hidden--visually\" id=\"sk-estimator-id-137\" type=\"checkbox\" ><label for=\"sk-estimator-id-137\" class=\"sk-toggleable__label sk-toggleable__label-arrow\">OneHotEncoder</label><div class=\"sk-toggleable__content\"><pre>OneHotEncoder(handle_unknown=&#x27;ignore&#x27;)</pre></div></div></div></div></div></div><div class=\"sk-parallel-item\"><div class=\"sk-item\"><div class=\"sk-label-container\"><div class=\"sk-label sk-toggleable\"><input class=\"sk-toggleable__control sk-hidden--visually\" id=\"sk-estimator-id-138\" type=\"checkbox\" ><label for=\"sk-estimator-id-138\" class=\"sk-toggleable__label sk-toggleable__label-arrow\">standard_scaler</label><div class=\"sk-toggleable__content\"><pre>[&#x27;fatalities&#x27;, &#x27;injuries&#x27;, &#x27;location_accuracy&#x27;, &#x27;distance&#x27;, &#x27;population&#x27;, &#x27;longitude&#x27;, &#x27;latitude&#x27;, &#x27;countrycode&#x27;]</pre></div></div></div><div class=\"sk-serial\"><div class=\"sk-item\"><div class=\"sk-estimator sk-toggleable\"><input class=\"sk-toggleable__control sk-hidden--visually\" id=\"sk-estimator-id-139\" type=\"checkbox\" ><label for=\"sk-estimator-id-139\" class=\"sk-toggleable__label sk-toggleable__label-arrow\">StandardScaler</label><div class=\"sk-toggleable__content\"><pre>StandardScaler()</pre></div></div></div></div></div></div></div></div><div class=\"sk-item\"><div class=\"sk-estimator sk-toggleable\"><input class=\"sk-toggleable__control sk-hidden--visually\" id=\"sk-estimator-id-140\" type=\"checkbox\" ><label for=\"sk-estimator-id-140\" class=\"sk-toggleable__label sk-toggleable__label-arrow\">KNeighborsClassifier</label><div class=\"sk-toggleable__content\"><pre>KNeighborsClassifier()</pre></div></div></div></div></div></div></div>"
            ]
          },
          "metadata": {},
          "execution_count": 327
        }
      ]
    },
    {
      "cell_type": "markdown",
      "source": [
        "accuracy"
      ],
      "metadata": {
        "id": "kKFBWa21nOQX"
      }
    },
    {
      "cell_type": "code",
      "source": [
        "model_knn.fit(X_train, Y_train)\n",
        "predknn=model_knn.predict(X_test)\n",
        "print(model_knn.score(X_test,Y_test))"
      ],
      "metadata": {
        "colab": {
          "base_uri": "https://localhost:8080/"
        },
        "id": "UgACg7eVTK-R",
        "outputId": "cf147db0-22c3-4296-90be-26001a7a2700"
      },
      "execution_count": null,
      "outputs": [
        {
          "output_type": "stream",
          "name": "stdout",
          "text": [
            "0.6287878787878788\n"
          ]
        }
      ]
    }
  ]
}